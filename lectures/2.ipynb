{
 "cells": [
  {
   "cell_type": "markdown",
   "metadata": {},
   "source": [
    "# Second lecture: Julia"
   ]
  },
  {
   "cell_type": "markdown",
   "metadata": {},
   "source": [
    "### Benchmarking Julia\n",
    "\n",
    "We will see the implementation $ benchmarking of **sum function** in:\n",
    "\n",
    "* Julia (built-in)  \n",
    "* Julia (hand-written)  \n",
    "* C (hand-written)  \n",
    "* python (built-in)  \n",
    "* python (numpy)  \n",
    "* python (hand-written)  "
   ]
  },
  {
   "cell_type": "code",
   "execution_count": 5,
   "metadata": {},
   "outputs": [],
   "source": [
    "import Pkg\n",
    "Pkg.instantiate()"
   ]
  },
  {
   "cell_type": "code",
   "execution_count": 2,
   "metadata": {},
   "outputs": [
    {
     "data": {
      "text/plain": [
       "10000000-element Vector{Float64}:\n",
       " 0.2525576338368869\n",
       " 0.459376587627343\n",
       " 0.2637048375367672\n",
       " 0.7638436869058564\n",
       " 0.8821751788959045\n",
       " 0.42556199238688197\n",
       " 0.9332979534403669\n",
       " 0.8777217322472689\n",
       " 0.19977933798653824\n",
       " 0.8448964080507566\n",
       " 0.4179522558504025\n",
       " 0.384310657576593\n",
       " 0.7223376034204833\n",
       " ⋮\n",
       " 0.5171675902611497\n",
       " 0.7710086786911577\n",
       " 0.7971251800186492\n",
       " 0.5562411216123363\n",
       " 0.4959889600208085\n",
       " 0.7560780458271646\n",
       " 0.2134001807257433\n",
       " 0.10569240732818519\n",
       " 0.14980641889900081\n",
       " 0.18179281210167364\n",
       " 0.5873474351775368\n",
       " 0.35527807915897935"
      ]
     },
     "execution_count": 2,
     "metadata": {},
     "output_type": "execute_result"
    }
   ],
   "source": [
    "a = rand(10^7) # vector of random numbers, uniform on [0,1]"
   ]
  },
  {
   "cell_type": "code",
   "execution_count": 3,
   "metadata": {},
   "outputs": [
    {
     "data": {
      "text/html": [
       "sum(a::<b>AbstractArray</b>; <i>dims, kw...</i>) in Base at <a href=\"https://github.com/JuliaLang/julia/tree/7790d6f06411be1fd5aec7cb6fffdb38c89c0c2a/base/reducedim.jl#L1010\" target=\"_blank\">reducedim.jl:1010</a>"
      ],
      "text/plain": [
       "sum(\u001b[90ma\u001b[39m::\u001b[1mAbstractArray\u001b[22m; dims, kw...)\n",
       "\u001b[90m     @\u001b[39m \u001b[90mBase\u001b[39m \u001b[90m\u001b[4mreducedim.jl:1010\u001b[24m\u001b[39m"
      ]
     },
     "execution_count": 3,
     "metadata": {},
     "output_type": "execute_result"
    }
   ],
   "source": [
    "@which sum(a)"
   ]
  },
  {
   "cell_type": "code",
   "execution_count": 4,
   "metadata": {},
   "outputs": [
    {
     "data": {
      "text/plain": [
       "5.000948072351623e6"
      ]
     },
     "execution_count": 4,
     "metadata": {},
     "output_type": "execute_result"
    }
   ],
   "source": [
    "sum(a)"
   ]
  },
  {
   "cell_type": "code",
   "execution_count": 97,
   "metadata": {},
   "outputs": [
    {
     "name": "stdout",
     "output_type": "stream",
     "text": [
      "  0.003172 seconds (1 allocation: 16 bytes)\n"
     ]
    },
    {
     "data": {
      "text/plain": [
       "5.000948072351623e6"
      ]
     },
     "execution_count": 97,
     "metadata": {},
     "output_type": "execute_result"
    }
   ],
   "source": [
    "@time sum(a)  # try to repeat the execution of this cell!"
   ]
  },
  {
   "cell_type": "markdown",
   "metadata": {},
   "source": [
    "but why do we get different values of the computing time?\n"
   ]
  },
  {
   "cell_type": "code",
   "execution_count": 98,
   "metadata": {},
   "outputs": [
    {
     "name": "stderr",
     "output_type": "stream",
     "text": [
      "\u001b[32m\u001b[1m   Resolving\u001b[22m\u001b[39m package versions...\n",
      "\u001b[32m\u001b[1m   Installed\u001b[22m\u001b[39m BenchmarkTools ─ v1.5.0\n",
      "\u001b[32m\u001b[1m    Updating\u001b[22m\u001b[39m `~/.julia/environments/v1.10/Project.toml`\n",
      "  \u001b[90m[6e4b80f9] \u001b[39m\u001b[92m+ BenchmarkTools v1.5.0\u001b[39m\n",
      "\u001b[32m\u001b[1m    Updating\u001b[22m\u001b[39m `~/.julia/environments/v1.10/Manifest.toml`\n",
      "  \u001b[90m[6e4b80f9] \u001b[39m\u001b[92m+ BenchmarkTools v1.5.0\u001b[39m\n",
      "  \u001b[90m[9abbd945] \u001b[39m\u001b[92m+ Profile\u001b[39m\n",
      "\u001b[32m\u001b[1mPrecompiling\u001b[22m\u001b[39m project...\n",
      "\u001b[32m  ✓ \u001b[39mBenchmarkTools\n",
      "  1 dependency successfully precompiled in 2 seconds. 227 already precompiled.\n"
     ]
    }
   ],
   "source": [
    "Pkg.add(\"BenchmarkTools\")\n",
    "using BenchmarkTools"
   ]
  },
  {
   "cell_type": "code",
   "execution_count": 99,
   "metadata": {},
   "outputs": [
    {
     "data": {
      "text/plain": [
       "BenchmarkTools.Trial: 1737 samples with 1 evaluation.\n",
       " Range \u001b[90m(\u001b[39m\u001b[36m\u001b[1mmin\u001b[22m\u001b[39m … \u001b[35mmax\u001b[39m\u001b[90m):  \u001b[39m\u001b[36m\u001b[1m2.692 ms\u001b[22m\u001b[39m … \u001b[35m  4.623 ms\u001b[39m  \u001b[90m┊\u001b[39m GC \u001b[90m(\u001b[39mmin … max\u001b[90m): \u001b[39m0.00% … 0.00%\n",
       " Time  \u001b[90m(\u001b[39m\u001b[34m\u001b[1mmedian\u001b[22m\u001b[39m\u001b[90m):     \u001b[39m\u001b[34m\u001b[1m2.705 ms               \u001b[22m\u001b[39m\u001b[90m┊\u001b[39m GC \u001b[90m(\u001b[39mmedian\u001b[90m):    \u001b[39m0.00%\n",
       " Time  \u001b[90m(\u001b[39m\u001b[32m\u001b[1mmean\u001b[22m\u001b[39m ± \u001b[32mσ\u001b[39m\u001b[90m):   \u001b[39m\u001b[32m\u001b[1m2.869 ms\u001b[22m\u001b[39m ± \u001b[32m253.969 μs\u001b[39m  \u001b[90m┊\u001b[39m GC \u001b[90m(\u001b[39mmean ± σ\u001b[90m):  \u001b[39m0.00% ± 0.00%\n",
       "\n",
       "  \u001b[39m█\u001b[34m▄\u001b[39m\u001b[39m▂\u001b[39m \u001b[39m \u001b[39m \u001b[39m \u001b[39m \u001b[39m \u001b[39m \u001b[39m \u001b[39m \u001b[32m \u001b[39m\u001b[39m \u001b[39m \u001b[39m \u001b[39m \u001b[39m \u001b[39m \u001b[39m \u001b[39m \u001b[39m \u001b[39m \u001b[39m \u001b[39m \u001b[39m \u001b[39m \u001b[39m \u001b[39m▂\u001b[39m▄\u001b[39m \u001b[39m \u001b[39m \u001b[39m \u001b[39m \u001b[39m▂\u001b[39m▁\u001b[39m▁\u001b[39m \u001b[39m \u001b[39m \u001b[39m \u001b[39m \u001b[39m \u001b[39m \u001b[39m \u001b[39m \u001b[39m \u001b[39m \u001b[39m \u001b[39m \u001b[39m \u001b[39m \u001b[39m \u001b[39m \u001b[39m \u001b[39m \u001b[39m \u001b[39m \u001b[39m \u001b[39m \n",
       "  \u001b[39m█\u001b[34m█\u001b[39m\u001b[39m█\u001b[39m▇\u001b[39m▆\u001b[39m▆\u001b[39m▇\u001b[39m▆\u001b[39m▆\u001b[39m▅\u001b[39m▇\u001b[39m▄\u001b[32m▇\u001b[39m\u001b[39m▇\u001b[39m▅\u001b[39m▇\u001b[39m▇\u001b[39m▆\u001b[39m▅\u001b[39m▄\u001b[39m▅\u001b[39m▅\u001b[39m▅\u001b[39m▇\u001b[39m▆\u001b[39m▆\u001b[39m▅\u001b[39m▆\u001b[39m█\u001b[39m█\u001b[39m█\u001b[39m█\u001b[39m▇\u001b[39m▇\u001b[39m█\u001b[39m█\u001b[39m█\u001b[39m█\u001b[39m█\u001b[39m▇\u001b[39m▇\u001b[39m▆\u001b[39m▇\u001b[39m▇\u001b[39m▇\u001b[39m▆\u001b[39m▇\u001b[39m▅\u001b[39m▆\u001b[39m▄\u001b[39m▃\u001b[39m▅\u001b[39m▄\u001b[39m▅\u001b[39m▃\u001b[39m▁\u001b[39m▁\u001b[39m▄\u001b[39m▅\u001b[39m \u001b[39m█\n",
       "  2.69 ms\u001b[90m      \u001b[39m\u001b[90mHistogram: \u001b[39m\u001b[90m\u001b[1mlog(\u001b[22m\u001b[39m\u001b[90mfrequency\u001b[39m\u001b[90m\u001b[1m)\u001b[22m\u001b[39m\u001b[90m by time\u001b[39m      3.55 ms \u001b[0m\u001b[1m<\u001b[22m\n",
       "\n",
       " Memory estimate\u001b[90m: \u001b[39m\u001b[33m16 bytes\u001b[39m, allocs estimate\u001b[90m: \u001b[39m\u001b[33m1\u001b[39m."
      ]
     },
     "execution_count": 99,
     "metadata": {},
     "output_type": "execute_result"
    }
   ],
   "source": [
    "@benchmark sum(a)"
   ]
  },
  {
   "cell_type": "markdown",
   "metadata": {},
   "source": [
    "If the expression to benchmark depends on external variables, one should use `$` to \"interpolate\" them into the benchmark expression to avoid the problems of benchmarking with globals. Essentially, any interpolated variable `$x` or expression `$(...)` is \"pre-computed\" before benchmarking begins. So in short with `@btime` `$` is used to \"interpolate\" them into the benchmarked expression in order to get a correct benchmark results.\n",
    "\n",
    "In this way we pre-compute the value of `a` and then execute the benchmark:"
   ]
  },
  {
   "cell_type": "code",
   "execution_count": 100,
   "metadata": {},
   "outputs": [
    {
     "data": {
      "text/plain": [
       "BenchmarkTools.Trial: 1707 samples with 1 evaluation.\n",
       " Range \u001b[90m(\u001b[39m\u001b[36m\u001b[1mmin\u001b[22m\u001b[39m … \u001b[35mmax\u001b[39m\u001b[90m):  \u001b[39m\u001b[36m\u001b[1m2.692 ms\u001b[22m\u001b[39m … \u001b[35m  4.781 ms\u001b[39m  \u001b[90m┊\u001b[39m GC \u001b[90m(\u001b[39mmin … max\u001b[90m): \u001b[39m0.00% … 0.00%\n",
       " Time  \u001b[90m(\u001b[39m\u001b[34m\u001b[1mmedian\u001b[22m\u001b[39m\u001b[90m):     \u001b[39m\u001b[34m\u001b[1m2.720 ms               \u001b[22m\u001b[39m\u001b[90m┊\u001b[39m GC \u001b[90m(\u001b[39mmedian\u001b[90m):    \u001b[39m0.00%\n",
       " Time  \u001b[90m(\u001b[39m\u001b[32m\u001b[1mmean\u001b[22m\u001b[39m ± \u001b[32mσ\u001b[39m\u001b[90m):   \u001b[39m\u001b[32m\u001b[1m2.922 ms\u001b[22m\u001b[39m ± \u001b[32m269.846 μs\u001b[39m  \u001b[90m┊\u001b[39m GC \u001b[90m(\u001b[39mmean ± σ\u001b[90m):  \u001b[39m0.00% ± 0.00%\n",
       "\n",
       "  \u001b[39m█\u001b[39m▄\u001b[34m▁\u001b[39m\u001b[39m \u001b[39m \u001b[39m \u001b[39m \u001b[39m \u001b[39m \u001b[39m \u001b[39m \u001b[39m \u001b[39m \u001b[39m \u001b[32m \u001b[39m\u001b[39m \u001b[39m \u001b[39m \u001b[39m \u001b[39m \u001b[39m \u001b[39m \u001b[39m \u001b[39m \u001b[39m \u001b[39m▅\u001b[39m▂\u001b[39m▃\u001b[39m▁\u001b[39m \u001b[39m▃\u001b[39m▁\u001b[39m▂\u001b[39m \u001b[39m \u001b[39m \u001b[39m \u001b[39m \u001b[39m \u001b[39m \u001b[39m \u001b[39m \u001b[39m \u001b[39m \u001b[39m \u001b[39m \u001b[39m \u001b[39m \u001b[39m \u001b[39m \u001b[39m \u001b[39m \u001b[39m \u001b[39m \u001b[39m \u001b[39m \u001b[39m \u001b[39m \u001b[39m \u001b[39m \u001b[39m \n",
       "  \u001b[39m█\u001b[39m█\u001b[34m█\u001b[39m\u001b[39m▇\u001b[39m▇\u001b[39m▇\u001b[39m▅\u001b[39m▆\u001b[39m▇\u001b[39m▆\u001b[39m▆\u001b[39m▇\u001b[39m▆\u001b[39m▇\u001b[32m▆\u001b[39m\u001b[39m▅\u001b[39m▇\u001b[39m▅\u001b[39m▆\u001b[39m▆\u001b[39m▆\u001b[39m▆\u001b[39m▅\u001b[39m▅\u001b[39m█\u001b[39m█\u001b[39m█\u001b[39m█\u001b[39m█\u001b[39m█\u001b[39m█\u001b[39m█\u001b[39m█\u001b[39m█\u001b[39m█\u001b[39m█\u001b[39m▆\u001b[39m▆\u001b[39m▇\u001b[39m▇\u001b[39m▆\u001b[39m▇\u001b[39m▇\u001b[39m▅\u001b[39m▆\u001b[39m▄\u001b[39m▃\u001b[39m▃\u001b[39m▄\u001b[39m▁\u001b[39m▅\u001b[39m▃\u001b[39m▁\u001b[39m▄\u001b[39m▃\u001b[39m▄\u001b[39m▄\u001b[39m▄\u001b[39m▆\u001b[39m \u001b[39m█\n",
       "  2.69 ms\u001b[90m      \u001b[39m\u001b[90mHistogram: \u001b[39m\u001b[90m\u001b[1mlog(\u001b[22m\u001b[39m\u001b[90mfrequency\u001b[39m\u001b[90m\u001b[1m)\u001b[22m\u001b[39m\u001b[90m by time\u001b[39m      3.68 ms \u001b[0m\u001b[1m<\u001b[22m\n",
       "\n",
       " Memory estimate\u001b[90m: \u001b[39m\u001b[33m0 bytes\u001b[39m, allocs estimate\u001b[90m: \u001b[39m\u001b[33m0\u001b[39m."
      ]
     },
     "execution_count": 100,
     "metadata": {},
     "output_type": "execute_result"
    }
   ],
   "source": [
    "@benchmark sum($a)"
   ]
  },
  {
   "cell_type": "code",
   "execution_count": 103,
   "metadata": {},
   "outputs": [
    {
     "data": {
      "text/plain": [
       "Dict{Any, Any} with 1 entry:\n",
       "  \"Julia built-in\" => 2.68992"
      ]
     },
     "execution_count": 103,
     "metadata": {},
     "output_type": "execute_result"
    }
   ],
   "source": [
    "j_bench = @benchmark sum($a)\n",
    "\n",
    "d = Dict()\n",
    "d[\"Julia built-in\"] = minimum(j_bench.times) / 1e6\n",
    "d"
   ]
  },
  {
   "cell_type": "markdown",
   "metadata": {},
   "source": [
    "Let us implement our hand-written sum function:"
   ]
  },
  {
   "cell_type": "code",
   "execution_count": 104,
   "metadata": {},
   "outputs": [
    {
     "data": {
      "text/plain": [
       "mysum (generic function with 1 method)"
      ]
     },
     "execution_count": 104,
     "metadata": {},
     "output_type": "execute_result"
    }
   ],
   "source": [
    "function mysum(A)\n",
    "    s = 0.0\n",
    "    for a in A\n",
    "        s += a\n",
    "    end\n",
    "    return s\n",
    "end"
   ]
  },
  {
   "cell_type": "code",
   "execution_count": 105,
   "metadata": {},
   "outputs": [
    {
     "data": {
      "text/plain": [
       "Dict{Any, Any} with 2 entries:\n",
       "  \"Julia hand-written\" => 12.8121\n",
       "  \"Julia built-in\"     => 2.68992"
      ]
     },
     "execution_count": 105,
     "metadata": {},
     "output_type": "execute_result"
    }
   ],
   "source": [
    "j_bench_hand = @benchmark mysum($a)\n",
    "d[\"Julia hand-written\"] = minimum(j_bench_hand.times) / 1e6\n",
    "d"
   ]
  },
  {
   "cell_type": "markdown",
   "metadata": {},
   "source": [
    "Let us now compare it to the C language, that we can use inside the Julia environment:"
   ]
  },
  {
   "cell_type": "code",
   "execution_count": 108,
   "metadata": {},
   "outputs": [
    {
     "name": "stderr",
     "output_type": "stream",
     "text": [
      "WARNING: redefinition of constant Main.Clib. This may fail, cause incorrect answers, or produce other errors.\n"
     ]
    },
    {
     "data": {
      "text/plain": [
       "c_sum (generic function with 1 method)"
      ]
     },
     "execution_count": 108,
     "metadata": {},
     "output_type": "execute_result"
    }
   ],
   "source": [
    "using Libdl\n",
    "C_code = \"\"\"\n",
    "    #include <stddef.h>\n",
    "    double c_sum(size_t n, double *X) {\n",
    "        double s = 0.0;\n",
    "        for (size_t i = 0; i < n; ++i) {\n",
    "            s += X[i];\n",
    "        }\n",
    "        return s;\n",
    "    }\n",
    "\"\"\"\n",
    "\n",
    "const Clib = tempname()   # make a temporary file\n",
    "\n",
    "\n",
    "# compile to a shared library by piping C_code to gcc\n",
    "# (works only if you have gcc installed):\n",
    "\n",
    "open(`gcc -fPIC -O3 -xc -shared -o $(Clib * \".\" * Libdl.dlext) -`, \"w\") do f\n",
    "    print(f, C_code)\n",
    "end\n",
    "\n",
    "# define a Julia function that calls the C function:\n",
    "c_sum(X::Array{Float64}) = ccall((\"c_sum\", Clib), Float64, (Csize_t, Ptr{Float64}), length(X), X)"
   ]
  },
  {
   "cell_type": "code",
   "execution_count": 109,
   "metadata": {},
   "outputs": [
    {
     "ename": "LoadError",
     "evalue": "LoadError: UndefVarError: `@icxx_str` not defined\nin expression starting at In[109]:15",
     "output_type": "error",
     "traceback": [
      "LoadError: UndefVarError: `@icxx_str` not defined\nin expression starting at In[109]:15",
      ""
     ]
    }
   ],
   "source": [
    "\n",
    "# Define the C++ function and compile it\n",
    "C_code = \"\"\"\n",
    "    #include <stddef.h>\n",
    "    double c_sum(size_t n, double *X) {\n",
    "        double s = 0.0;\n",
    "        for (size_t i = 0; i < n; ++i) {\n",
    "            s += X[i];\n",
    "        }\n",
    "        return s;\n",
    "    }\n",
    "\"\"\"\n",
    "\n",
    "# Execute it\n",
    "icxx\"myCppFunction();\" # Return \"Printing 10\"\n",
    "# OR\n",
    "# Convert the C++ to Julia function\n",
    "myJuliaFunction() = @cxx myCppFunction()\n",
    "# Run the function\n",
    "myJuliaFunction() # Return \"Printing 10\""
   ]
  },
  {
   "cell_type": "code",
   "execution_count": 110,
   "metadata": {},
   "outputs": [
    {
     "data": {
      "text/plain": [
       "true"
      ]
     },
     "execution_count": 110,
     "metadata": {},
     "output_type": "execute_result"
    }
   ],
   "source": [
    "c_sum(a)\n",
    "c_sum(a) ≈ sum(a) # type \\approx and then <TAB> to get the ≈ symbol"
   ]
  },
  {
   "cell_type": "code",
   "execution_count": 111,
   "metadata": {},
   "outputs": [
    {
     "data": {
      "text/plain": [
       "Dict{Any, Any} with 3 entries:\n",
       "  \"C\"                  => 12.7635\n",
       "  \"Julia hand-written\" => 12.8121\n",
       "  \"Julia built-in\"     => 2.68992"
      ]
     },
     "execution_count": 111,
     "metadata": {},
     "output_type": "execute_result"
    }
   ],
   "source": [
    "c_bench = @benchmark c_sum($a)\n",
    "d[\"C\"] = minimum(c_bench.times) / 1e6  # in milliseconds\n",
    "d"
   ]
  },
  {
   "cell_type": "markdown",
   "metadata": {},
   "source": [
    "let us see the time of the same operation, but using python. we can do it with the package PyCall."
   ]
  },
  {
   "cell_type": "code",
   "execution_count": 113,
   "metadata": {},
   "outputs": [
    {
     "name": "stderr",
     "output_type": "stream",
     "text": [
      "\u001b[32m\u001b[1m   Resolving\u001b[22m\u001b[39m package versions...\n",
      "\u001b[32m\u001b[1m   Installed\u001b[22m\u001b[39m PyCall ─ v1.96.4\n",
      "\u001b[32m\u001b[1m    Updating\u001b[22m\u001b[39m `~/.julia/environments/v1.10/Project.toml`\n",
      "  \u001b[90m[438e738f] \u001b[39m\u001b[92m+ PyCall v1.96.4\u001b[39m\n",
      "\u001b[32m\u001b[1m    Updating\u001b[22m\u001b[39m `~/.julia/environments/v1.10/Manifest.toml`\n",
      "  \u001b[90m[438e738f] \u001b[39m\u001b[92m+ PyCall v1.96.4\u001b[39m\n",
      "\u001b[32m\u001b[1m    Building\u001b[22m\u001b[39m PyCall → `~/.julia/scratchspaces/44cfe95a-1eb2-52ea-b672-e2afdf69b78f/9816a3826b0ebf49ab4926e2b18842ad8b5c8f04/build.log`\n",
      "\u001b[32m\u001b[1mPrecompiling\u001b[22m\u001b[39m project...\n",
      "\u001b[32m  ✓ \u001b[39mPyCall\n",
      "  1 dependency successfully precompiled in 9 seconds. 228 already precompiled.\n"
     ]
    }
   ],
   "source": [
    "Pkg.add(\"PyCall\")\n",
    "using PyCall"
   ]
  },
  {
   "cell_type": "code",
   "execution_count": 114,
   "metadata": {},
   "outputs": [
    {
     "data": {
      "text/plain": [
       "Dict{Any, Any} with 4 entries:\n",
       "  \"C\"                  => 12.7635\n",
       "  \"Julia hand-written\" => 12.8121\n",
       "  \"Julia built-in\"     => 2.68992\n",
       "  \"Python built-in\"    => 702.062"
      ]
     },
     "execution_count": 114,
     "metadata": {},
     "output_type": "execute_result"
    }
   ],
   "source": [
    "pysum = pybuiltin(\"sum\")\n",
    "pysum(a)\n",
    "\n",
    "py_list_bench = @benchmark $pysum($a)\n",
    "d[\"Python built-in\"] = minimum(py_list_bench.times) / 1e6\n",
    "d"
   ]
  },
  {
   "cell_type": "markdown",
   "metadata": {},
   "source": [
    "let us check the python numpy sum function:"
   ]
  },
  {
   "cell_type": "code",
   "execution_count": 115,
   "metadata": {},
   "outputs": [
    {
     "data": {
      "text/plain": [
       "Dict{Any, Any} with 5 entries:\n",
       "  \"C\"                  => 12.7635\n",
       "  \"Julia hand-written\" => 12.8121\n",
       "  \"Python numpy\"       => 2.979\n",
       "  \"Julia built-in\"     => 2.68992\n",
       "  \"Python built-in\"    => 702.062"
      ]
     },
     "execution_count": 115,
     "metadata": {},
     "output_type": "execute_result"
    }
   ],
   "source": [
    "np=pyimport(\"numpy\")\n",
    "np.sum(a)\n",
    "\n",
    "py_numpy = @benchmark $np.sum($a)\n",
    "d[\"Python numpy\"] = minimum(py_numpy.times) / 1e6\n",
    "d"
   ]
  },
  {
   "cell_type": "code",
   "execution_count": 116,
   "metadata": {},
   "outputs": [
    {
     "name": "stdout",
     "output_type": "stream",
     "text": [
      "Julia built-in..............2.7\n",
      "Python numpy................3.0\n",
      "C..........................12.8\n",
      "Julia hand-written.........12.8\n",
      "Python built-in...........702.1\n"
     ]
    }
   ],
   "source": [
    "for (key, value) in sort(collect(d), by=last)\n",
    "    println(rpad(key, 25, \".\"), lpad(round(value; digits=1), 6, \".\"))\n",
    "end"
   ]
  },
  {
   "cell_type": "markdown",
   "metadata": {},
   "source": [
    "apparently, Julia is the fastest! measure units are milliseconds. but we must admit that here we are using C hand-written sum (using for cycle), so we can assume that python numpy (written in C) has the same time of the optimized C code."
   ]
  },
  {
   "cell_type": "markdown",
   "metadata": {},
   "source": [
    "# Serial code optimization\n",
    "\n",
    "Several decisions can be considered while designing the code (e.g. Types, Type Inference, and Stability, multiple dispatch, meta-programming, vectorization, ...). Such methodologies allow to write an efficient computer program for high performance computing.\n",
    "\n",
    "Before writing any fast parallel code, one should consider write a fast serial code. Here are some tips that could make your serial code run faster:  \n",
    "1. __Write your performance critical code inside a function__  \n",
    "    Code inside functions tends to run much faster than top level code, due to how Julia's compiler works. Functions not only enhances the performance but it is more reusable and testable.  \n",
    "2. __Make variables local__\n",
    "    A global variable could change its type during execution, so it could be difficult for the julia compiler optimize it. Using local variable instead or declaring the global variable as constant (`const:`) will greatly improve performances.\n",
    "3. __Use `@time` or `@btime`__  \n",
    "    Use `@time` or `@btime` macro to measure the execution time of a function. They can also indicate the amount of allocated which could be sometimes significant.  \n",
    "4. __Declare types when possible__  \n",
    "    Type stability makes for loops faster. Declaring types help compilers to convert into machine code."
   ]
  },
  {
   "cell_type": "code",
   "execution_count": 117,
   "metadata": {},
   "outputs": [
    {
     "data": {
      "text/plain": [
       "xpow (generic function with 1 method)"
      ]
     },
     "execution_count": 117,
     "metadata": {},
     "output_type": "execute_result"
    }
   ],
   "source": [
    "function xpow(x)\n",
    "    return [x x^2 x^3 x^4]\n",
    "end"
   ]
  },
  {
   "cell_type": "code",
   "execution_count": 118,
   "metadata": {},
   "outputs": [
    {
     "data": {
      "text/plain": [
       "xpow_loop (generic function with 1 method)"
      ]
     },
     "execution_count": 118,
     "metadata": {},
     "output_type": "execute_result"
    }
   ],
   "source": [
    "function xpow_loop(n)\n",
    "    s= 0\n",
    "    for i = 1:n\n",
    "        s = s + xpow(i)[2]\n",
    "    end\n",
    "    return s \n",
    "end"
   ]
  },
  {
   "cell_type": "code",
   "execution_count": 119,
   "metadata": {},
   "outputs": [
    {
     "name": "stdout",
     "output_type": "stream",
     "text": [
      "  34.836 ms (1000000 allocations: 91.55 MiB)\n"
     ]
    },
    {
     "data": {
      "text/plain": [
       "333333833333500000"
      ]
     },
     "execution_count": 119,
     "metadata": {},
     "output_type": "execute_result"
    }
   ],
   "source": [
    "using BenchmarkTools; @btime xpow_loop(1000000)"
   ]
  },
  {
   "cell_type": "markdown",
   "metadata": {},
   "source": [
    "# Julia Array-type optimization  \n",
    "Arrays are a fundamental data structure in all programming languages. Moreover, they can improve performance. Thus, a special attention is given to the usage of array in numerical programming.\n",
    "\n",
    "We will discuss how to use arrays in Julia in the most efficient way:\n",
    "- Computer memory model and array representation and storage in Julia\n",
    "- Bounds checks and **@inbounds**\n",
    "- Specialized array types\n",
    "- __Broadcasting__\n",
    "- __SIMD__ parallelization"
   ]
  },
  {
   "cell_type": "markdown",
   "metadata": {},
   "source": [
    "Julia implement column major ordering, just like Fortran, Matlab, R. On the other hand, arrays in C/C++ and Python's numpy are stored as row major-ordered.  \n",
    "The following code squares and sums the elements of a two-dimensional floating point array, writing the result at each step back to the same position. The following code exercises both the read and write operations for the array:"
   ]
  },
  {
   "cell_type": "code",
   "execution_count": 120,
   "metadata": {},
   "outputs": [
    {
     "data": {
      "text/plain": [
       "col_iter (generic function with 1 method)"
      ]
     },
     "execution_count": 120,
     "metadata": {},
     "output_type": "execute_result"
    }
   ],
   "source": [
    "function col_iter(x)\n",
    "    s=zero(eltype(x))\n",
    "    for i in 1:size(x, 2)\n",
    "        for j in 1:size(x, 1)\n",
    "            s = s + x[j, i] ^ 2\n",
    "            x[j, i] = s\n",
    "        end\n",
    "    end\n",
    "end"
   ]
  },
  {
   "cell_type": "code",
   "execution_count": 121,
   "metadata": {},
   "outputs": [
    {
     "data": {
      "text/plain": [
       "row_iter (generic function with 1 method)"
      ]
     },
     "execution_count": 121,
     "metadata": {},
     "output_type": "execute_result"
    }
   ],
   "source": [
    "function row_iter(x)\n",
    "    s=zero(eltype(x))\n",
    "    for i in 1:size(x, 1)\n",
    "        for j in 1:size(x, 2)\n",
    "            s = s + x[i, j] ^ 2\n",
    "            x[i, j] = s\n",
    "        end\n",
    "    end\n",
    "end"
   ]
  },
  {
   "cell_type": "code",
   "execution_count": 122,
   "metadata": {},
   "outputs": [
    {
     "name": "stdout",
     "output_type": "stream",
     "text": [
      "  1.238 ms (0 allocations: 0 bytes)\n",
      "  1.464 ms (0 allocations: 0 bytes)\n"
     ]
    }
   ],
   "source": [
    "a = rand(1000, 1000)\n",
    "@btime col_iter(a)\n",
    "@btime row_iter(a)"
   ]
  },
  {
   "cell_type": "markdown",
   "metadata": {},
   "source": [
    "### Lower Level View: the Stack and the Heap\n",
    "\n",
    "**Stack**  \n",
    "- The stack requires a static allocation. It is ordered and accesses are very quick.\n",
    "- Because this is static, it requires that the size of the variables is known at compile time (to determine all of the variable locations).\n",
    "    \n",
    "**Heap**  \n",
    "- The heap is essentially a stack of pointers to objects in memory. When heap variables are needed, their values are pulled up the cache chain and accessed.\n",
    "- Heap allocations are costly because they involve this pointer dereferencing."
   ]
  },
  {
   "cell_type": "code",
   "execution_count": 123,
   "metadata": {},
   "outputs": [
    {
     "data": {
      "text/plain": [
       "10-element Vector{Number}:\n",
       "  1\n",
       "  2\n",
       "  3\n",
       "  4\n",
       "  5\n",
       "  6\n",
       "  7\n",
       "  8\n",
       "  9\n",
       " 10"
      ]
     },
     "execution_count": 123,
     "metadata": {},
     "output_type": "execute_result"
    }
   ],
   "source": [
    "a = Int64[1, 2, 3, 4, 5, 6, 7, 8, 9, 10]\n",
    "b = Number[1,2,3,4,5,6,7,8,9,10]  #Number is a supertype of Int64"
   ]
  },
  {
   "cell_type": "code",
   "execution_count": 124,
   "metadata": {},
   "outputs": [
    {
     "data": {
      "text/plain": [
       "arr_sumsqr (generic function with 1 method)"
      ]
     },
     "execution_count": 124,
     "metadata": {},
     "output_type": "execute_result"
    }
   ],
   "source": [
    "function arr_sumsqr(x::Array{T}) where T <: Number  # with <: T inherits Number \n",
    "    r = zero(T)\n",
    "    for i = 1:length(x)\n",
    "        r = r + x[i] ^ 2\n",
    "    end\n",
    "    return r\n",
    "end"
   ]
  },
  {
   "cell_type": "code",
   "execution_count": 125,
   "metadata": {},
   "outputs": [
    {
     "name": "stdout",
     "output_type": "stream",
     "text": [
      "  6.541 ns (0 allocations: 0 bytes)\n",
      "  486.323 ns (0 allocations: 0 bytes)\n"
     ]
    },
    {
     "data": {
      "text/plain": [
       "385"
      ]
     },
     "execution_count": 125,
     "metadata": {},
     "output_type": "execute_result"
    }
   ],
   "source": [
    "@btime arr_sumsqr($a)\n",
    "@btime arr_sumsqr($b)"
   ]
  },
  {
   "cell_type": "markdown",
   "metadata": {},
   "source": [
    "When the array is defined to contain a specific concrete type, the Julia runtime can store the values inline within the allocation of the array, since it knows the exact size of each element. When the array contains an abstract type, the actual value can be of any size. Thus, when the Julia runtime creates the array, it only stores the pointers to the actual values within the array. The values are stored elsewhere on the heap. This not only causes extra memory load when reading the values, but the indirection can mess up pipelining and cache affinity when executing this code on the CPU."
   ]
  },
  {
   "cell_type": "markdown",
   "metadata": {},
   "source": [
    "Consider `StaticArrays.jl` for small fixed-size vector/matrix operations.  \n",
    "- StaticArrays.jl library uses statically-sized arrays and thus arrays which are stack-allocated. \n",
    "- It can be used for many small (< 100 element) arrays of fixed sizes."
   ]
  },
  {
   "cell_type": "code",
   "execution_count": 126,
   "metadata": {},
   "outputs": [
    {
     "name": "stderr",
     "output_type": "stream",
     "text": [
      "\u001b[32m\u001b[1m   Resolving\u001b[22m\u001b[39m package versions...\n",
      "\u001b[32m\u001b[1m    Updating\u001b[22m\u001b[39m `~/.julia/environments/v1.10/Project.toml`\n",
      "  \u001b[90m[90137ffa] \u001b[39m\u001b[92m+ StaticArrays v1.9.3\u001b[39m\n",
      "\u001b[32m\u001b[1m  No Changes\u001b[22m\u001b[39m to `~/.julia/environments/v1.10/Manifest.toml`\n"
     ]
    }
   ],
   "source": [
    "Pkg.add(\"StaticArrays\")"
   ]
  },
  {
   "cell_type": "code",
   "execution_count": 128,
   "metadata": {},
   "outputs": [
    {
     "name": "stdout",
     "output_type": "stream",
     "text": [
      "  3.885 μs (0 allocations: 0 bytes)\n"
     ]
    }
   ],
   "source": [
    "A = rand(100,100)\n",
    "B = rand(100,100)\n",
    "C = rand(100,100)\n",
    "\n",
    "using StaticArrays\n",
    "function static_inner_alloc!(C,A,B)\n",
    "    for j in 1:100, i in 1:100\n",
    "        val = @SVector [A[i,j] + B[i,j]]\n",
    "        C[i,j] = val[1]\n",
    "    end\n",
    "end\n",
    "@btime static_inner_alloc!(C,A,B)"
   ]
  },
  {
   "cell_type": "markdown",
   "metadata": {},
   "source": [
    "## Bounds checks \n",
    "Julia performs bounds checks on arrays by default at runtime. This means that the Julia compiler and runtime verify that the arrays are not indexed outside their limits and that all the indexes lie between the actual start and end of an array.\n",
    "\n",
    "The `@inbounds` macro eliminates array bounds checking within expressions and is applied in front of a function or loop definition."
   ]
  },
  {
   "cell_type": "code",
   "execution_count": 129,
   "metadata": {},
   "outputs": [],
   "source": [
    "len = (100, 100);\n",
    "a, b = fill(1.0f0, len), fill(2.0f0, len);"
   ]
  },
  {
   "cell_type": "markdown",
   "metadata": {},
   "source": [
    "Using `fill` in this way is not only convenient but also safer, since the memory that is returned to the program is filled with known good values. However, the operation to fill the memory is also expensive. For a performance-critical method to create arrays, the constructor can be called with a special `undef` keyword. In this case, memory is allocated, but not filled."
   ]
  },
  {
   "cell_type": "code",
   "execution_count": 130,
   "metadata": {},
   "outputs": [
    {
     "name": "stdout",
     "output_type": "stream",
     "text": [
      "  9.875 μs (2 allocations: 39.17 KiB)\n",
      "\u001b[90m;  @ In[130]:1 within `prefix_bounds`\u001b[39m\n",
      "\u001b[95mdefine\u001b[39m \u001b[36mvoid\u001b[39m \u001b[93m@julia_prefix_bounds_5452\u001b[39m\u001b[33m(\u001b[39m\u001b[33m{\u001b[39m\u001b[33m}\u001b[39m\u001b[0m* \u001b[95mnoundef\u001b[39m \u001b[95mnonnull\u001b[39m \u001b[95malign\u001b[39m \u001b[33m16\u001b[39m \u001b[95mdereferenceable\u001b[39m\u001b[33m(\u001b[39m\u001b[33m40\u001b[39m\u001b[33m)\u001b[39m \u001b[0m%0\u001b[0m, \u001b[33m{\u001b[39m\u001b[33m}\u001b[39m\u001b[0m* \u001b[95mnoundef\u001b[39m \u001b[95mnonnull\u001b[39m \u001b[95malign\u001b[39m \u001b[33m16\u001b[39m \u001b[95mdereferenceable\u001b[39m\u001b[33m(\u001b[39m\u001b[33m40\u001b[39m\u001b[33m)\u001b[39m \u001b[0m%1\u001b[33m)\u001b[39m \u001b[0m#0 \u001b[33m{\u001b[39m\n",
      "\u001b[91mtop:\u001b[39m\n",
      "\u001b[90m;  @ In[130]:2 within `prefix_bounds`\u001b[39m\n",
      "\u001b[90m; ┌ @ array.jl:416 within `similar`\u001b[39m\n",
      "\u001b[90m; │┌ @ array.jl:190 within `size`\u001b[39m\n",
      "    \u001b[0m%2 \u001b[0m= \u001b[96m\u001b[1mbitcast\u001b[22m\u001b[39m \u001b[33m{\u001b[39m\u001b[33m}\u001b[39m\u001b[0m* \u001b[0m%0 \u001b[95mto\u001b[39m \u001b[33m{\u001b[39m\u001b[33m}\u001b[39m\u001b[0m**\n",
      "    \u001b[0m%arraysize_ptr \u001b[0m= \u001b[96m\u001b[1mgetelementptr\u001b[22m\u001b[39m \u001b[95minbounds\u001b[39m \u001b[33m{\u001b[39m\u001b[33m}\u001b[39m\u001b[0m*\u001b[0m, \u001b[33m{\u001b[39m\u001b[33m}\u001b[39m\u001b[0m** \u001b[0m%2\u001b[0m, \u001b[36mi64\u001b[39m \u001b[33m3\u001b[39m\n",
      "    \u001b[0m%3 \u001b[0m= \u001b[96m\u001b[1mbitcast\u001b[22m\u001b[39m \u001b[33m{\u001b[39m\u001b[33m}\u001b[39m\u001b[0m** \u001b[0m%arraysize_ptr \u001b[95mto\u001b[39m \u001b[36mi64\u001b[39m\u001b[0m*\n",
      "    \u001b[0m%arraysize \u001b[0m= \u001b[96m\u001b[1mload\u001b[22m\u001b[39m \u001b[36mi64\u001b[39m\u001b[0m, \u001b[36mi64\u001b[39m\u001b[0m* \u001b[0m%3\u001b[0m, \u001b[95malign\u001b[39m \u001b[33m8\u001b[39m\n",
      "    \u001b[0m%arraysize_ptr1 \u001b[0m= \u001b[96m\u001b[1mgetelementptr\u001b[22m\u001b[39m \u001b[95minbounds\u001b[39m \u001b[33m{\u001b[39m\u001b[33m}\u001b[39m\u001b[0m*\u001b[0m, \u001b[33m{\u001b[39m\u001b[33m}\u001b[39m\u001b[0m** \u001b[0m%2\u001b[0m, \u001b[36mi64\u001b[39m \u001b[33m4\u001b[39m\n",
      "    \u001b[0m%4 \u001b[0m= \u001b[96m\u001b[1mbitcast\u001b[22m\u001b[39m \u001b[33m{\u001b[39m\u001b[33m}\u001b[39m\u001b[0m** \u001b[0m%arraysize_ptr1 \u001b[95mto\u001b[39m \u001b[36mi64\u001b[39m\u001b[0m*\n",
      "    \u001b[0m%arraysize2 \u001b[0m= \u001b[96m\u001b[1mload\u001b[22m\u001b[39m \u001b[36mi64\u001b[39m\u001b[0m, \u001b[36mi64\u001b[39m\u001b[0m* \u001b[0m%4\u001b[0m, \u001b[95malign\u001b[39m \u001b[33m8\u001b[39m\n",
      "\u001b[90m; │└\u001b[39m\n",
      "\u001b[90m; │┌ @ boot.jl:479 within `Array`\u001b[39m\n",
      "    \u001b[0m%5 \u001b[0m= \u001b[96m\u001b[1mcall\u001b[22m\u001b[39m \u001b[95mnonnull\u001b[39m \u001b[33m{\u001b[39m\u001b[33m}\u001b[39m\u001b[0m* \u001b[95minttoptr\u001b[39m \u001b[33m(\u001b[39m\u001b[36mi64\u001b[39m \u001b[33m4387225500\u001b[39m \u001b[95mto\u001b[39m \u001b[33m{\u001b[39m\u001b[33m}\u001b[39m\u001b[0m* \u001b[33m(\u001b[39m\u001b[33m{\u001b[39m\u001b[33m}\u001b[39m\u001b[0m*\u001b[0m, \u001b[36mi64\u001b[39m\u001b[0m, \u001b[36mi64\u001b[39m\u001b[33m)\u001b[39m\u001b[0m*\u001b[33m)\u001b[39m\u001b[33m(\u001b[39m\u001b[33m{\u001b[39m\u001b[33m}\u001b[39m\u001b[0m* \u001b[95minttoptr\u001b[39m \u001b[33m(\u001b[39m\u001b[36mi64\u001b[39m \u001b[33m4534035024\u001b[39m \u001b[95mto\u001b[39m \u001b[33m{\u001b[39m\u001b[33m}\u001b[39m\u001b[0m*\u001b[33m)\u001b[39m\u001b[0m, \u001b[36mi64\u001b[39m \u001b[0m%arraysize\u001b[0m, \u001b[36mi64\u001b[39m \u001b[0m%arraysize2\u001b[33m)\u001b[39m\n",
      "    \u001b[0m%6 \u001b[0m= \u001b[96m\u001b[1mbitcast\u001b[22m\u001b[39m \u001b[33m{\u001b[39m\u001b[33m}\u001b[39m\u001b[0m* \u001b[0m%0 \u001b[95mto\u001b[39m \u001b[36mfloat\u001b[39m\u001b[0m**\n",
      "    \u001b[0m%7 \u001b[0m= \u001b[96m\u001b[1mbitcast\u001b[22m\u001b[39m \u001b[33m{\u001b[39m\u001b[33m}\u001b[39m\u001b[0m* \u001b[0m%1 \u001b[95mto\u001b[39m \u001b[33m{\u001b[39m\u001b[33m}\u001b[39m\u001b[0m**\n",
      "    \u001b[0m%arraysize_ptr11 \u001b[0m= \u001b[96m\u001b[1mgetelementptr\u001b[22m\u001b[39m \u001b[95minbounds\u001b[39m \u001b[33m{\u001b[39m\u001b[33m}\u001b[39m\u001b[0m*\u001b[0m, \u001b[33m{\u001b[39m\u001b[33m}\u001b[39m\u001b[0m** \u001b[0m%7\u001b[0m, \u001b[36mi64\u001b[39m \u001b[33m3\u001b[39m\n",
      "    \u001b[0m%8 \u001b[0m= \u001b[96m\u001b[1mbitcast\u001b[22m\u001b[39m \u001b[33m{\u001b[39m\u001b[33m}\u001b[39m\u001b[0m** \u001b[0m%arraysize_ptr11 \u001b[95mto\u001b[39m \u001b[36mi64\u001b[39m\u001b[0m*\n",
      "    \u001b[0m%arraysize_ptr16 \u001b[0m= \u001b[96m\u001b[1mgetelementptr\u001b[22m\u001b[39m \u001b[95minbounds\u001b[39m \u001b[33m{\u001b[39m\u001b[33m}\u001b[39m\u001b[0m*\u001b[0m, \u001b[33m{\u001b[39m\u001b[33m}\u001b[39m\u001b[0m** \u001b[0m%7\u001b[0m, \u001b[36mi64\u001b[39m \u001b[33m4\u001b[39m\n",
      "    \u001b[0m%9 \u001b[0m= \u001b[96m\u001b[1mbitcast\u001b[22m\u001b[39m \u001b[33m{\u001b[39m\u001b[33m}\u001b[39m\u001b[0m** \u001b[0m%arraysize_ptr16 \u001b[95mto\u001b[39m \u001b[36mi64\u001b[39m\u001b[0m*\n",
      "    \u001b[0m%10 \u001b[0m= \u001b[96m\u001b[1mbitcast\u001b[22m\u001b[39m \u001b[33m{\u001b[39m\u001b[33m}\u001b[39m\u001b[0m* \u001b[0m%1 \u001b[95mto\u001b[39m \u001b[36mfloat\u001b[39m\u001b[0m**\n",
      "    \u001b[0m%11 \u001b[0m= \u001b[96m\u001b[1mbitcast\u001b[22m\u001b[39m \u001b[33m{\u001b[39m\u001b[33m}\u001b[39m\u001b[0m* \u001b[0m%5 \u001b[95mto\u001b[39m \u001b[33m{\u001b[39m\u001b[33m}\u001b[39m\u001b[0m**\n",
      "    \u001b[0m%arraysize_ptr25 \u001b[0m= \u001b[96m\u001b[1mgetelementptr\u001b[22m\u001b[39m \u001b[95minbounds\u001b[39m \u001b[33m{\u001b[39m\u001b[33m}\u001b[39m\u001b[0m*\u001b[0m, \u001b[33m{\u001b[39m\u001b[33m}\u001b[39m\u001b[0m** \u001b[0m%11\u001b[0m, \u001b[36mi64\u001b[39m \u001b[33m3\u001b[39m\n",
      "    \u001b[0m%12 \u001b[0m= \u001b[96m\u001b[1mbitcast\u001b[22m\u001b[39m \u001b[33m{\u001b[39m\u001b[33m}\u001b[39m\u001b[0m** \u001b[0m%arraysize_ptr25 \u001b[95mto\u001b[39m \u001b[36mi64\u001b[39m\u001b[0m*\n",
      "    \u001b[0m%arraysize_ptr30 \u001b[0m= \u001b[96m\u001b[1mgetelementptr\u001b[22m\u001b[39m \u001b[95minbounds\u001b[39m \u001b[33m{\u001b[39m\u001b[33m}\u001b[39m\u001b[0m*\u001b[0m, \u001b[33m{\u001b[39m\u001b[33m}\u001b[39m\u001b[0m** \u001b[0m%11\u001b[0m, \u001b[36mi64\u001b[39m \u001b[33m4\u001b[39m\n",
      "    \u001b[0m%13 \u001b[0m= \u001b[96m\u001b[1mbitcast\u001b[22m\u001b[39m \u001b[33m{\u001b[39m\u001b[33m}\u001b[39m\u001b[0m** \u001b[0m%arraysize_ptr30 \u001b[95mto\u001b[39m \u001b[36mi64\u001b[39m\u001b[0m*\n",
      "    \u001b[0m%14 \u001b[0m= \u001b[96m\u001b[1mbitcast\u001b[22m\u001b[39m \u001b[33m{\u001b[39m\u001b[33m}\u001b[39m\u001b[0m* \u001b[0m%5 \u001b[95mto\u001b[39m \u001b[36mfloat\u001b[39m\u001b[0m**\n",
      "\u001b[90m; └└\u001b[39m\n",
      "\u001b[90m;  @ In[130]:3 within `prefix_bounds`\u001b[39m\n",
      "  \u001b[96m\u001b[1mbr\u001b[22m\u001b[39m \u001b[36mlabel\u001b[39m \u001b[91m%L5\u001b[39m\n",
      "\n",
      "\u001b[91mL5:\u001b[39m                                               \u001b[90m; preds = %L25.split.us.split.us, %top\u001b[39m\n",
      "  \u001b[0m%value_phi \u001b[0m= \u001b[96m\u001b[1mphi\u001b[22m\u001b[39m \u001b[36mi64\u001b[39m \u001b[33m[\u001b[39m \u001b[33m1\u001b[39m\u001b[0m, \u001b[91m%top\u001b[39m \u001b[33m]\u001b[39m\u001b[0m, \u001b[33m[\u001b[39m \u001b[0m%33\u001b[0m, \u001b[91m%L25.split.us.split.us\u001b[39m \u001b[33m]\u001b[39m\n",
      "  \u001b[0m%15 \u001b[0m= \u001b[96m\u001b[1madd\u001b[22m\u001b[39m \u001b[95mnsw\u001b[39m \u001b[36mi64\u001b[39m \u001b[0m%value_phi\u001b[0m, \u001b[33m-1\u001b[39m\n",
      "  \u001b[0m%inbounds10 \u001b[0m= \u001b[96m\u001b[1micmp\u001b[22m\u001b[39m \u001b[96m\u001b[1mult\u001b[22m\u001b[39m \u001b[36mi64\u001b[39m \u001b[0m%15\u001b[0m, \u001b[0m%arraysize2\n",
      "  \u001b[0m%16 \u001b[0m= \u001b[96m\u001b[1mmul\u001b[22m\u001b[39m \u001b[36mi64\u001b[39m \u001b[0m%arraysize\u001b[0m, \u001b[0m%15\n",
      "  \u001b[0m%arrayptr47 \u001b[0m= \u001b[96m\u001b[1mload\u001b[22m\u001b[39m \u001b[36mfloat\u001b[39m\u001b[0m*\u001b[0m, \u001b[36mfloat\u001b[39m\u001b[0m** \u001b[0m%6\u001b[0m, \u001b[95malign\u001b[39m \u001b[33m8\u001b[39m\n",
      "  \u001b[0m%arraysize12 \u001b[0m= \u001b[96m\u001b[1mload\u001b[22m\u001b[39m \u001b[36mi64\u001b[39m\u001b[0m, \u001b[36mi64\u001b[39m\u001b[0m* \u001b[0m%8\u001b[0m, \u001b[95malign\u001b[39m \u001b[33m8\u001b[39m\n",
      "  \u001b[0m%17 \u001b[0m= \u001b[96m\u001b[1mmul\u001b[22m\u001b[39m \u001b[36mi64\u001b[39m \u001b[0m%arraysize12\u001b[0m, \u001b[0m%15\n",
      "  \u001b[0m%arrayptr2349 \u001b[0m= \u001b[96m\u001b[1mload\u001b[22m\u001b[39m \u001b[36mfloat\u001b[39m\u001b[0m*\u001b[0m, \u001b[36mfloat\u001b[39m\u001b[0m** \u001b[0m%10\u001b[0m, \u001b[95malign\u001b[39m \u001b[33m8\u001b[39m\n",
      "  \u001b[0m%inbounds10.fr \u001b[0m= \u001b[96m\u001b[1mfreeze\u001b[22m\u001b[39m \u001b[36mi1\u001b[39m \u001b[0m%inbounds10\n",
      "\u001b[90m;  @ In[130]:4 within `prefix_bounds`\u001b[39m\n",
      "\u001b[90m; ┌ @ essentials.jl:14 within `getindex`\u001b[39m\n",
      "   \u001b[96m\u001b[1mbr\u001b[22m\u001b[39m \u001b[36mi1\u001b[39m \u001b[0m%inbounds10.fr\u001b[0m, \u001b[36mlabel\u001b[39m \u001b[91m%L5.split.us\u001b[39m\u001b[0m, \u001b[36mlabel\u001b[39m \u001b[91m%oob\u001b[39m\n",
      "\n",
      "\u001b[91mL5.split.us:\u001b[39m                                      \u001b[90m; preds = %L5\u001b[39m\n",
      "   \u001b[0m%arraysize17 \u001b[0m= \u001b[96m\u001b[1mload\u001b[22m\u001b[39m \u001b[36mi64\u001b[39m\u001b[0m, \u001b[36mi64\u001b[39m\u001b[0m* \u001b[0m%9\u001b[0m, \u001b[95malign\u001b[39m \u001b[33m8\u001b[39m\n",
      "   \u001b[0m%inbounds18 \u001b[0m= \u001b[96m\u001b[1micmp\u001b[22m\u001b[39m \u001b[96m\u001b[1mult\u001b[22m\u001b[39m \u001b[36mi64\u001b[39m \u001b[0m%15\u001b[0m, \u001b[0m%arraysize17\n",
      "   \u001b[0m%inbounds18.fr \u001b[0m= \u001b[96m\u001b[1mfreeze\u001b[22m\u001b[39m \u001b[36mi1\u001b[39m \u001b[0m%inbounds18\n",
      "   \u001b[96m\u001b[1mbr\u001b[22m\u001b[39m \u001b[36mi1\u001b[39m \u001b[0m%inbounds18.fr\u001b[0m, \u001b[36mlabel\u001b[39m \u001b[91m%L5.split.us.split.us\u001b[39m\u001b[0m, \u001b[36mlabel\u001b[39m \u001b[91m%L5.split.us.split\u001b[39m\n",
      "\n",
      "\u001b[91mL5.split.us.split.us:\u001b[39m                             \u001b[90m; preds = %L5.split.us\u001b[39m\n",
      "\u001b[90m; └\u001b[39m\n",
      "\u001b[90m;  @ In[130]:3 within `prefix_bounds`\u001b[39m\n",
      "  \u001b[0m%smin \u001b[0m= \u001b[96m\u001b[1mcall\u001b[22m\u001b[39m \u001b[36mi64\u001b[39m \u001b[93m@llvm.smin.i64\u001b[39m\u001b[33m(\u001b[39m\u001b[36mi64\u001b[39m \u001b[0m%arraysize12\u001b[0m, \u001b[36mi64\u001b[39m \u001b[33m0\u001b[39m\u001b[33m)\u001b[39m\n",
      "  \u001b[0m%18 \u001b[0m= \u001b[96m\u001b[1msub\u001b[22m\u001b[39m \u001b[36mi64\u001b[39m \u001b[0m%arraysize12\u001b[0m, \u001b[0m%smin\n",
      "  \u001b[0m%smax \u001b[0m= \u001b[96m\u001b[1mcall\u001b[22m\u001b[39m \u001b[36mi64\u001b[39m \u001b[93m@llvm.smax.i64\u001b[39m\u001b[33m(\u001b[39m\u001b[36mi64\u001b[39m \u001b[0m%smin\u001b[0m, \u001b[36mi64\u001b[39m \u001b[33m-1\u001b[39m\u001b[33m)\u001b[39m\n",
      "  \u001b[0m%19 \u001b[0m= \u001b[96m\u001b[1madd\u001b[22m\u001b[39m \u001b[95mnsw\u001b[39m \u001b[36mi64\u001b[39m \u001b[0m%smax\u001b[0m, \u001b[33m1\u001b[39m\n",
      "  \u001b[0m%20 \u001b[0m= \u001b[96m\u001b[1mmul\u001b[22m\u001b[39m \u001b[95mnuw\u001b[39m \u001b[95mnsw\u001b[39m \u001b[36mi64\u001b[39m \u001b[0m%18\u001b[0m, \u001b[0m%19\n",
      "  \u001b[0m%umin \u001b[0m= \u001b[96m\u001b[1mcall\u001b[22m\u001b[39m \u001b[36mi64\u001b[39m \u001b[93m@llvm.umin.i64\u001b[39m\u001b[33m(\u001b[39m\u001b[36mi64\u001b[39m \u001b[0m%arraysize\u001b[0m, \u001b[36mi64\u001b[39m \u001b[0m%20\u001b[33m)\u001b[39m\n",
      "  \u001b[0m%exit.mainloop.at \u001b[0m= \u001b[96m\u001b[1mcall\u001b[22m\u001b[39m \u001b[36mi64\u001b[39m \u001b[93m@llvm.umin.i64\u001b[39m\u001b[33m(\u001b[39m\u001b[36mi64\u001b[39m \u001b[0m%umin\u001b[0m, \u001b[36mi64\u001b[39m \u001b[33m100\u001b[39m\u001b[33m)\u001b[39m\n",
      "  \u001b[0m%.not125 \u001b[0m= \u001b[96m\u001b[1micmp\u001b[22m\u001b[39m \u001b[96m\u001b[1meq\u001b[22m\u001b[39m \u001b[36mi64\u001b[39m \u001b[0m%exit.mainloop.at\u001b[0m, \u001b[33m0\u001b[39m\n",
      "  \u001b[96m\u001b[1mbr\u001b[22m\u001b[39m \u001b[36mi1\u001b[39m \u001b[0m%.not125\u001b[0m, \u001b[36mlabel\u001b[39m \u001b[91m%main.pseudo.exit\u001b[39m\u001b[0m, \u001b[36mlabel\u001b[39m \u001b[91m%ib14.us.us.preheader\u001b[39m\n",
      "\n",
      "\u001b[91mib14.us.us.preheader:\u001b[39m                             \u001b[90m; preds = %L5.split.us.split.us\u001b[39m\n",
      "\u001b[90m;  @ In[130]:4 within `prefix_bounds`\u001b[39m\n",
      "\u001b[90m; ┌ @ array.jl:1024 within `setindex!`\u001b[39m\n",
      "   \u001b[0m%arraysize26.us.us.pre \u001b[0m= \u001b[96m\u001b[1mload\u001b[22m\u001b[39m \u001b[36mi64\u001b[39m\u001b[0m, \u001b[36mi64\u001b[39m\u001b[0m* \u001b[0m%12\u001b[0m, \u001b[95malign\u001b[39m \u001b[33m8\u001b[39m\n",
      "   \u001b[96m\u001b[1mbr\u001b[22m\u001b[39m \u001b[36mlabel\u001b[39m \u001b[91m%ib14.us.us\u001b[39m\n",
      "\n",
      "\u001b[91mib14.us.us:\u001b[39m                                       \u001b[90m; preds = %idxend35.us.us, %ib14.us.us.preheader\u001b[39m\n",
      "   \u001b[0m%value_phi4.us.us \u001b[0m= \u001b[96m\u001b[1mphi\u001b[22m\u001b[39m \u001b[36mi64\u001b[39m \u001b[33m[\u001b[39m \u001b[0m%30\u001b[0m, \u001b[91m%idxend35.us.us\u001b[39m \u001b[33m]\u001b[39m\u001b[0m, \u001b[33m[\u001b[39m \u001b[33m1\u001b[39m\u001b[0m, \u001b[91m%ib14.us.us.preheader\u001b[39m \u001b[33m]\u001b[39m\n",
      "\u001b[90m; └\u001b[39m\n",
      "\u001b[90m; ┌ @ essentials.jl:14 within `getindex`\u001b[39m\n",
      "   \u001b[0m%21 \u001b[0m= \u001b[96m\u001b[1madd\u001b[22m\u001b[39m \u001b[95mnsw\u001b[39m \u001b[36mi64\u001b[39m \u001b[0m%value_phi4.us.us\u001b[0m, \u001b[33m-1\u001b[39m\n",
      "   \u001b[0m%22 \u001b[0m= \u001b[96m\u001b[1madd\u001b[22m\u001b[39m \u001b[36mi64\u001b[39m \u001b[0m%16\u001b[0m, \u001b[0m%21\n",
      "   \u001b[0m%23 \u001b[0m= \u001b[96m\u001b[1mgetelementptr\u001b[22m\u001b[39m \u001b[95minbounds\u001b[39m \u001b[36mfloat\u001b[39m\u001b[0m, \u001b[36mfloat\u001b[39m\u001b[0m* \u001b[0m%arrayptr47\u001b[0m, \u001b[36mi64\u001b[39m \u001b[0m%22\n",
      "   \u001b[0m%arrayref.us.us \u001b[0m= \u001b[96m\u001b[1mload\u001b[22m\u001b[39m \u001b[36mfloat\u001b[39m\u001b[0m, \u001b[36mfloat\u001b[39m\u001b[0m* \u001b[0m%23\u001b[0m, \u001b[95malign\u001b[39m \u001b[33m4\u001b[39m\n",
      "   \u001b[0m%24 \u001b[0m= \u001b[96m\u001b[1madd\u001b[22m\u001b[39m \u001b[36mi64\u001b[39m \u001b[0m%17\u001b[0m, \u001b[0m%21\n",
      "   \u001b[0m%25 \u001b[0m= \u001b[96m\u001b[1mgetelementptr\u001b[22m\u001b[39m \u001b[95minbounds\u001b[39m \u001b[36mfloat\u001b[39m\u001b[0m, \u001b[36mfloat\u001b[39m\u001b[0m* \u001b[0m%arrayptr2349\u001b[0m, \u001b[36mi64\u001b[39m \u001b[0m%24\n",
      "   \u001b[0m%arrayref24.us.us \u001b[0m= \u001b[96m\u001b[1mload\u001b[22m\u001b[39m \u001b[36mfloat\u001b[39m\u001b[0m, \u001b[36mfloat\u001b[39m\u001b[0m* \u001b[0m%25\u001b[0m, \u001b[95malign\u001b[39m \u001b[33m4\u001b[39m\n",
      "\u001b[90m; └\u001b[39m\n",
      "\u001b[90m; ┌ @ float.jl:409 within `+`\u001b[39m\n",
      "   \u001b[0m%26 \u001b[0m= \u001b[96m\u001b[1mfadd\u001b[22m\u001b[39m \u001b[36mfloat\u001b[39m \u001b[0m%arrayref.us.us\u001b[0m, \u001b[0m%arrayref24.us.us\n",
      "\u001b[90m; └\u001b[39m\n",
      "\u001b[90m; ┌ @ array.jl:1024 within `setindex!`\u001b[39m\n",
      "   \u001b[0m%inbounds27.us.us \u001b[0m= \u001b[96m\u001b[1micmp\u001b[22m\u001b[39m \u001b[96m\u001b[1mult\u001b[22m\u001b[39m \u001b[36mi64\u001b[39m \u001b[0m%21\u001b[0m, \u001b[0m%arraysize26.us.us.pre\n",
      "   \u001b[96m\u001b[1mbr\u001b[22m\u001b[39m \u001b[36mi1\u001b[39m \u001b[0m%inbounds27.us.us\u001b[0m, \u001b[36mlabel\u001b[39m \u001b[91m%ib28.us.us\u001b[39m\u001b[0m, \u001b[36mlabel\u001b[39m \u001b[91m%oob33.split.us.split.us\u001b[39m\n",
      "\n",
      "\u001b[91mib28.us.us:\u001b[39m                                       \u001b[90m; preds = %ib14.us.us\u001b[39m\n",
      "   \u001b[0m%arraysize31.us.us \u001b[0m= \u001b[96m\u001b[1mload\u001b[22m\u001b[39m \u001b[36mi64\u001b[39m\u001b[0m, \u001b[36mi64\u001b[39m\u001b[0m* \u001b[0m%13\u001b[0m, \u001b[95malign\u001b[39m \u001b[33m8\u001b[39m\n",
      "   \u001b[0m%inbounds32.us.us \u001b[0m= \u001b[96m\u001b[1micmp\u001b[22m\u001b[39m \u001b[96m\u001b[1mult\u001b[22m\u001b[39m \u001b[36mi64\u001b[39m \u001b[0m%15\u001b[0m, \u001b[0m%arraysize31.us.us\n",
      "   \u001b[96m\u001b[1mbr\u001b[22m\u001b[39m \u001b[36mi1\u001b[39m \u001b[0m%inbounds32.us.us\u001b[0m, \u001b[36mlabel\u001b[39m \u001b[91m%idxend35.us.us\u001b[39m\u001b[0m, \u001b[36mlabel\u001b[39m \u001b[91m%oob33.split.us.split.us\u001b[39m\n",
      "\n",
      "\u001b[91midxend35.us.us:\u001b[39m                                   \u001b[90m; preds = %ib28.us.us\u001b[39m\n",
      "   \u001b[0m%27 \u001b[0m= \u001b[96m\u001b[1mmul\u001b[22m\u001b[39m \u001b[36mi64\u001b[39m \u001b[0m%arraysize26.us.us.pre\u001b[0m, \u001b[0m%15\n",
      "   \u001b[0m%28 \u001b[0m= \u001b[96m\u001b[1madd\u001b[22m\u001b[39m \u001b[36mi64\u001b[39m \u001b[0m%27\u001b[0m, \u001b[0m%21\n",
      "   \u001b[0m%arrayptr3751.us.us \u001b[0m= \u001b[96m\u001b[1mload\u001b[22m\u001b[39m \u001b[36mfloat\u001b[39m\u001b[0m*\u001b[0m, \u001b[36mfloat\u001b[39m\u001b[0m** \u001b[0m%14\u001b[0m, \u001b[95malign\u001b[39m \u001b[33m8\u001b[39m\n",
      "   \u001b[0m%29 \u001b[0m= \u001b[96m\u001b[1mgetelementptr\u001b[22m\u001b[39m \u001b[95minbounds\u001b[39m \u001b[36mfloat\u001b[39m\u001b[0m, \u001b[36mfloat\u001b[39m\u001b[0m* \u001b[0m%arrayptr3751.us.us\u001b[0m, \u001b[36mi64\u001b[39m \u001b[0m%28\n",
      "   \u001b[96m\u001b[1mstore\u001b[22m\u001b[39m \u001b[36mfloat\u001b[39m \u001b[0m%26\u001b[0m, \u001b[36mfloat\u001b[39m\u001b[0m* \u001b[0m%29\u001b[0m, \u001b[95malign\u001b[39m \u001b[33m4\u001b[39m\n",
      "\u001b[90m; └\u001b[39m\n",
      "\u001b[90m;  @ In[130]:5 within `prefix_bounds`\u001b[39m\n",
      "\u001b[90m; ┌ @ range.jl:901 within `iterate`\u001b[39m\n",
      "   \u001b[0m%30 \u001b[0m= \u001b[96m\u001b[1madd\u001b[22m\u001b[39m \u001b[95mnuw\u001b[39m \u001b[95mnsw\u001b[39m \u001b[36mi64\u001b[39m \u001b[0m%value_phi4.us.us\u001b[0m, \u001b[33m1\u001b[39m\n",
      "\u001b[90m; └\u001b[39m\n",
      "  \u001b[0m%.not126 \u001b[0m= \u001b[96m\u001b[1micmp\u001b[22m\u001b[39m \u001b[96m\u001b[1mult\u001b[22m\u001b[39m \u001b[36mi64\u001b[39m \u001b[0m%value_phi4.us.us\u001b[0m, \u001b[0m%exit.mainloop.at\n",
      "  \u001b[96m\u001b[1mbr\u001b[22m\u001b[39m \u001b[36mi1\u001b[39m \u001b[0m%.not126\u001b[0m, \u001b[36mlabel\u001b[39m \u001b[91m%ib14.us.us\u001b[39m\u001b[0m, \u001b[36mlabel\u001b[39m \u001b[91m%main.exit.selector\u001b[39m\n",
      "\n",
      "\u001b[91mmain.exit.selector:\u001b[39m                               \u001b[90m; preds = %idxend35.us.us\u001b[39m\n",
      "  \u001b[0m%31 \u001b[0m= \u001b[96m\u001b[1micmp\u001b[22m\u001b[39m \u001b[96m\u001b[1mult\u001b[22m\u001b[39m \u001b[36mi64\u001b[39m \u001b[0m%value_phi4.us.us\u001b[0m, \u001b[33m100\u001b[39m\n",
      "  \u001b[96m\u001b[1mbr\u001b[22m\u001b[39m \u001b[36mi1\u001b[39m \u001b[0m%31\u001b[0m, \u001b[36mlabel\u001b[39m \u001b[91m%main.pseudo.exit\u001b[39m\u001b[0m, \u001b[36mlabel\u001b[39m \u001b[91m%L25.split.us.split.us\u001b[39m\n",
      "\n",
      "\u001b[91mmain.pseudo.exit:\u001b[39m                                 \u001b[90m; preds = %main.exit.selector, %L5.split.us.split.us\u001b[39m\n",
      "  \u001b[0m%value_phi4.us.us.copy \u001b[0m= \u001b[96m\u001b[1mphi\u001b[22m\u001b[39m \u001b[36mi64\u001b[39m \u001b[33m[\u001b[39m \u001b[33m1\u001b[39m\u001b[0m, \u001b[91m%L5.split.us.split.us\u001b[39m \u001b[33m]\u001b[39m\u001b[0m, \u001b[33m[\u001b[39m \u001b[0m%30\u001b[0m, \u001b[91m%main.exit.selector\u001b[39m \u001b[33m]\u001b[39m\n",
      "  \u001b[96m\u001b[1mbr\u001b[22m\u001b[39m \u001b[36mlabel\u001b[39m \u001b[91m%L8.us.us.postloop\u001b[39m\n",
      "\n",
      "\u001b[91moob33.split.us.split.us:\u001b[39m                          \u001b[90m; preds = %ib28.us.us.postloop, %ib14.us.us.postloop, %ib28.us.us, %ib14.us.us\u001b[39m\n",
      "  \u001b[0m%value_phi4.lcssa53.us.us \u001b[0m= \u001b[96m\u001b[1mphi\u001b[22m\u001b[39m \u001b[36mi64\u001b[39m \u001b[33m[\u001b[39m \u001b[0m%value_phi4.us.us.postloop\u001b[0m, \u001b[91m%ib14.us.us.postloop\u001b[39m \u001b[33m]\u001b[39m\u001b[0m, \u001b[33m[\u001b[39m \u001b[0m%value_phi4.us.us.postloop\u001b[0m, \u001b[91m%ib28.us.us.postloop\u001b[39m \u001b[33m]\u001b[39m\u001b[0m, \u001b[33m[\u001b[39m \u001b[0m%value_phi4.us.us\u001b[0m, \u001b[91m%ib14.us.us\u001b[39m \u001b[33m]\u001b[39m\u001b[0m, \u001b[33m[\u001b[39m \u001b[0m%value_phi4.us.us\u001b[0m, \u001b[91m%ib28.us.us\u001b[39m \u001b[33m]\u001b[39m\n",
      "\u001b[90m;  @ In[130]:4 within `prefix_bounds`\u001b[39m\n",
      "\u001b[90m; ┌ @ array.jl:1024 within `setindex!`\u001b[39m\n",
      "   \u001b[0m%errorbox3450 \u001b[0m= \u001b[96m\u001b[1malloca\u001b[22m\u001b[39m \u001b[33m[\u001b[39m\u001b[33m2\u001b[39m \u001b[0mx \u001b[36mi64\u001b[39m\u001b[33m]\u001b[39m\u001b[0m, \u001b[95malign\u001b[39m \u001b[33m8\u001b[39m\n",
      "   \u001b[0m%errorbox3450.sub \u001b[0m= \u001b[96m\u001b[1mgetelementptr\u001b[22m\u001b[39m \u001b[95minbounds\u001b[39m \u001b[33m[\u001b[39m\u001b[33m2\u001b[39m \u001b[0mx \u001b[36mi64\u001b[39m\u001b[33m]\u001b[39m\u001b[0m, \u001b[33m[\u001b[39m\u001b[33m2\u001b[39m \u001b[0mx \u001b[36mi64\u001b[39m\u001b[33m]\u001b[39m\u001b[0m* \u001b[0m%errorbox3450\u001b[0m, \u001b[36mi64\u001b[39m \u001b[33m0\u001b[39m\u001b[0m, \u001b[36mi64\u001b[39m \u001b[33m0\u001b[39m\n",
      "   \u001b[96m\u001b[1mstore\u001b[22m\u001b[39m \u001b[36mi64\u001b[39m \u001b[0m%value_phi4.lcssa53.us.us\u001b[0m, \u001b[36mi64\u001b[39m\u001b[0m* \u001b[0m%errorbox3450.sub\u001b[0m, \u001b[95malign\u001b[39m \u001b[33m8\u001b[39m\n",
      "   \u001b[0m%32 \u001b[0m= \u001b[96m\u001b[1mgetelementptr\u001b[22m\u001b[39m \u001b[95minbounds\u001b[39m \u001b[33m[\u001b[39m\u001b[33m2\u001b[39m \u001b[0mx \u001b[36mi64\u001b[39m\u001b[33m]\u001b[39m\u001b[0m, \u001b[33m[\u001b[39m\u001b[33m2\u001b[39m \u001b[0mx \u001b[36mi64\u001b[39m\u001b[33m]\u001b[39m\u001b[0m* \u001b[0m%errorbox3450\u001b[0m, \u001b[36mi64\u001b[39m \u001b[33m0\u001b[39m\u001b[0m, \u001b[36mi64\u001b[39m \u001b[33m1\u001b[39m\n",
      "   \u001b[96m\u001b[1mstore\u001b[22m\u001b[39m \u001b[36mi64\u001b[39m \u001b[0m%value_phi\u001b[0m, \u001b[36mi64\u001b[39m\u001b[0m* \u001b[0m%32\u001b[0m, \u001b[95malign\u001b[39m \u001b[33m8\u001b[39m\n",
      "   \u001b[96m\u001b[1mcall\u001b[22m\u001b[39m \u001b[36mvoid\u001b[39m \u001b[93m@ijl_bounds_error_ints\u001b[39m\u001b[33m(\u001b[39m\u001b[33m{\u001b[39m\u001b[33m}\u001b[39m\u001b[0m* \u001b[0m%5\u001b[0m, \u001b[36mi64\u001b[39m\u001b[0m* \u001b[95mnonnull\u001b[39m \u001b[0m%errorbox3450.sub\u001b[0m, \u001b[36mi64\u001b[39m \u001b[33m2\u001b[39m\u001b[33m)\u001b[39m\n",
      "   \u001b[96m\u001b[1munreachable\u001b[22m\u001b[39m\n",
      "\n",
      "\u001b[91mL25.split.us.split.us:\u001b[39m                            \u001b[90m; preds = %idxend35.us.us.postloop, %main.exit.selector\u001b[39m\n",
      "\u001b[90m; └\u001b[39m\n",
      "\u001b[90m;  @ In[130]:5 within `prefix_bounds`\u001b[39m\n",
      "\u001b[90m; ┌ @ range.jl:901 within `iterate`\u001b[39m\n",
      "\u001b[90m; │┌ @ promotion.jl:521 within `==`\u001b[39m\n",
      "    \u001b[0m%.not \u001b[0m= \u001b[96m\u001b[1micmp\u001b[22m\u001b[39m \u001b[96m\u001b[1meq\u001b[22m\u001b[39m \u001b[36mi64\u001b[39m \u001b[0m%value_phi\u001b[0m, \u001b[33m100\u001b[39m\n",
      "\u001b[90m; │└\u001b[39m\n",
      "   \u001b[0m%33 \u001b[0m= \u001b[96m\u001b[1madd\u001b[22m\u001b[39m \u001b[95mnuw\u001b[39m \u001b[95mnsw\u001b[39m \u001b[36mi64\u001b[39m \u001b[0m%value_phi\u001b[0m, \u001b[33m1\u001b[39m\n",
      "\u001b[90m; └\u001b[39m\n",
      "  \u001b[96m\u001b[1mbr\u001b[22m\u001b[39m \u001b[36mi1\u001b[39m \u001b[0m%.not\u001b[0m, \u001b[36mlabel\u001b[39m \u001b[91m%L36\u001b[39m\u001b[0m, \u001b[36mlabel\u001b[39m \u001b[91m%L5\u001b[39m\n",
      "\n",
      "\u001b[91mL5.split.us.split:\u001b[39m                                \u001b[90m; preds = %L5.split.us\u001b[39m\n",
      "\u001b[90m;  @ In[130]:4 within `prefix_bounds`\u001b[39m\n",
      "\u001b[90m; ┌ @ essentials.jl:14 within `getindex`\u001b[39m\n",
      "   \u001b[0m%inbounds.us.not \u001b[0m= \u001b[96m\u001b[1micmp\u001b[22m\u001b[39m \u001b[96m\u001b[1meq\u001b[22m\u001b[39m \u001b[36mi64\u001b[39m \u001b[0m%arraysize\u001b[0m, \u001b[33m0\u001b[39m\n",
      "   \u001b[96m\u001b[1mbr\u001b[22m\u001b[39m \u001b[36mi1\u001b[39m \u001b[0m%inbounds.us.not\u001b[0m, \u001b[36mlabel\u001b[39m \u001b[91m%oob\u001b[39m\u001b[0m, \u001b[36mlabel\u001b[39m \u001b[91m%oob19.split.us\u001b[39m\n",
      "\n",
      "\u001b[91moob19.split.us:\u001b[39m                                   \u001b[90m; preds = %ib.us.us.postloop, %L5.split.us.split\u001b[39m\n",
      "   \u001b[0m%.us-phi71 \u001b[0m= \u001b[96m\u001b[1mphi\u001b[22m\u001b[39m \u001b[36mi64\u001b[39m \u001b[33m[\u001b[39m \u001b[33m1\u001b[39m\u001b[0m, \u001b[91m%L5.split.us.split\u001b[39m \u001b[33m]\u001b[39m\u001b[0m, \u001b[33m[\u001b[39m \u001b[0m%value_phi4.us.us.postloop\u001b[0m, \u001b[91m%ib.us.us.postloop\u001b[39m \u001b[33m]\u001b[39m\n",
      "   \u001b[0m%errorbox2048 \u001b[0m= \u001b[96m\u001b[1malloca\u001b[22m\u001b[39m \u001b[33m[\u001b[39m\u001b[33m2\u001b[39m \u001b[0mx \u001b[36mi64\u001b[39m\u001b[33m]\u001b[39m\u001b[0m, \u001b[95malign\u001b[39m \u001b[33m8\u001b[39m\n",
      "   \u001b[0m%errorbox2048.sub \u001b[0m= \u001b[96m\u001b[1mgetelementptr\u001b[22m\u001b[39m \u001b[95minbounds\u001b[39m \u001b[33m[\u001b[39m\u001b[33m2\u001b[39m \u001b[0mx \u001b[36mi64\u001b[39m\u001b[33m]\u001b[39m\u001b[0m, \u001b[33m[\u001b[39m\u001b[33m2\u001b[39m \u001b[0mx \u001b[36mi64\u001b[39m\u001b[33m]\u001b[39m\u001b[0m* \u001b[0m%errorbox2048\u001b[0m, \u001b[36mi64\u001b[39m \u001b[33m0\u001b[39m\u001b[0m, \u001b[36mi64\u001b[39m \u001b[33m0\u001b[39m\n",
      "   \u001b[96m\u001b[1mstore\u001b[22m\u001b[39m \u001b[36mi64\u001b[39m \u001b[0m%.us-phi71\u001b[0m, \u001b[36mi64\u001b[39m\u001b[0m* \u001b[0m%errorbox2048.sub\u001b[0m, \u001b[95malign\u001b[39m \u001b[33m8\u001b[39m\n",
      "   \u001b[0m%34 \u001b[0m= \u001b[96m\u001b[1mgetelementptr\u001b[22m\u001b[39m \u001b[95minbounds\u001b[39m \u001b[33m[\u001b[39m\u001b[33m2\u001b[39m \u001b[0mx \u001b[36mi64\u001b[39m\u001b[33m]\u001b[39m\u001b[0m, \u001b[33m[\u001b[39m\u001b[33m2\u001b[39m \u001b[0mx \u001b[36mi64\u001b[39m\u001b[33m]\u001b[39m\u001b[0m* \u001b[0m%errorbox2048\u001b[0m, \u001b[36mi64\u001b[39m \u001b[33m0\u001b[39m\u001b[0m, \u001b[36mi64\u001b[39m \u001b[33m1\u001b[39m\n",
      "   \u001b[96m\u001b[1mstore\u001b[22m\u001b[39m \u001b[36mi64\u001b[39m \u001b[0m%value_phi\u001b[0m, \u001b[36mi64\u001b[39m\u001b[0m* \u001b[0m%34\u001b[0m, \u001b[95malign\u001b[39m \u001b[33m8\u001b[39m\n",
      "   \u001b[96m\u001b[1mcall\u001b[22m\u001b[39m \u001b[36mvoid\u001b[39m \u001b[93m@ijl_bounds_error_ints\u001b[39m\u001b[33m(\u001b[39m\u001b[33m{\u001b[39m\u001b[33m}\u001b[39m\u001b[0m* \u001b[0m%1\u001b[0m, \u001b[36mi64\u001b[39m\u001b[0m* \u001b[95mnonnull\u001b[39m \u001b[0m%errorbox2048.sub\u001b[0m, \u001b[36mi64\u001b[39m \u001b[33m2\u001b[39m\u001b[33m)\u001b[39m\n",
      "   \u001b[96m\u001b[1munreachable\u001b[22m\u001b[39m\n",
      "\n",
      "\u001b[91mL36:\u001b[39m                                              \u001b[90m; preds = %L25.split.us.split.us\u001b[39m\n",
      "\u001b[90m; └\u001b[39m\n",
      "\u001b[90m;  @ In[130]:5 within `prefix_bounds`\u001b[39m\n",
      "  \u001b[96m\u001b[1mret\u001b[22m\u001b[39m \u001b[36mvoid\u001b[39m\n",
      "\n",
      "\u001b[91moob:\u001b[39m                                              \u001b[90m; preds = %L8.us.us.postloop, %L5.split.us.split, %L5\u001b[39m\n",
      "  \u001b[0m%.us-phi58 \u001b[0m= \u001b[96m\u001b[1mphi\u001b[22m\u001b[39m \u001b[36mi64\u001b[39m \u001b[33m[\u001b[39m \u001b[33m1\u001b[39m\u001b[0m, \u001b[91m%L5.split.us.split\u001b[39m \u001b[33m]\u001b[39m\u001b[0m, \u001b[33m[\u001b[39m \u001b[0m%value_phi4.us.us.postloop\u001b[0m, \u001b[91m%L8.us.us.postloop\u001b[39m \u001b[33m]\u001b[39m\u001b[0m, \u001b[33m[\u001b[39m \u001b[33m1\u001b[39m\u001b[0m, \u001b[91m%L5\u001b[39m \u001b[33m]\u001b[39m\n",
      "\u001b[90m;  @ In[130]:4 within `prefix_bounds`\u001b[39m\n",
      "\u001b[90m; ┌ @ essentials.jl:14 within `getindex`\u001b[39m\n",
      "   \u001b[0m%errorbox46 \u001b[0m= \u001b[96m\u001b[1malloca\u001b[22m\u001b[39m \u001b[33m[\u001b[39m\u001b[33m2\u001b[39m \u001b[0mx \u001b[36mi64\u001b[39m\u001b[33m]\u001b[39m\u001b[0m, \u001b[95malign\u001b[39m \u001b[33m8\u001b[39m\n",
      "   \u001b[0m%errorbox46.sub \u001b[0m= \u001b[96m\u001b[1mgetelementptr\u001b[22m\u001b[39m \u001b[95minbounds\u001b[39m \u001b[33m[\u001b[39m\u001b[33m2\u001b[39m \u001b[0mx \u001b[36mi64\u001b[39m\u001b[33m]\u001b[39m\u001b[0m, \u001b[33m[\u001b[39m\u001b[33m2\u001b[39m \u001b[0mx \u001b[36mi64\u001b[39m\u001b[33m]\u001b[39m\u001b[0m* \u001b[0m%errorbox46\u001b[0m, \u001b[36mi64\u001b[39m \u001b[33m0\u001b[39m\u001b[0m, \u001b[36mi64\u001b[39m \u001b[33m0\u001b[39m\n",
      "   \u001b[96m\u001b[1mstore\u001b[22m\u001b[39m \u001b[36mi64\u001b[39m \u001b[0m%.us-phi58\u001b[0m, \u001b[36mi64\u001b[39m\u001b[0m* \u001b[0m%errorbox46.sub\u001b[0m, \u001b[95malign\u001b[39m \u001b[33m8\u001b[39m\n",
      "   \u001b[0m%35 \u001b[0m= \u001b[96m\u001b[1mgetelementptr\u001b[22m\u001b[39m \u001b[95minbounds\u001b[39m \u001b[33m[\u001b[39m\u001b[33m2\u001b[39m \u001b[0mx \u001b[36mi64\u001b[39m\u001b[33m]\u001b[39m\u001b[0m, \u001b[33m[\u001b[39m\u001b[33m2\u001b[39m \u001b[0mx \u001b[36mi64\u001b[39m\u001b[33m]\u001b[39m\u001b[0m* \u001b[0m%errorbox46\u001b[0m, \u001b[36mi64\u001b[39m \u001b[33m0\u001b[39m\u001b[0m, \u001b[36mi64\u001b[39m \u001b[33m1\u001b[39m\n",
      "   \u001b[96m\u001b[1mstore\u001b[22m\u001b[39m \u001b[36mi64\u001b[39m \u001b[0m%value_phi\u001b[0m, \u001b[36mi64\u001b[39m\u001b[0m* \u001b[0m%35\u001b[0m, \u001b[95malign\u001b[39m \u001b[33m8\u001b[39m\n",
      "   \u001b[96m\u001b[1mcall\u001b[22m\u001b[39m \u001b[36mvoid\u001b[39m \u001b[93m@ijl_bounds_error_ints\u001b[39m\u001b[33m(\u001b[39m\u001b[33m{\u001b[39m\u001b[33m}\u001b[39m\u001b[0m* \u001b[0m%0\u001b[0m, \u001b[36mi64\u001b[39m\u001b[0m* \u001b[95mnonnull\u001b[39m \u001b[0m%errorbox46.sub\u001b[0m, \u001b[36mi64\u001b[39m \u001b[33m2\u001b[39m\u001b[33m)\u001b[39m\n",
      "   \u001b[96m\u001b[1munreachable\u001b[22m\u001b[39m\n",
      "\n",
      "\u001b[91mL8.us.us.postloop:\u001b[39m                                \u001b[90m; preds = %idxend35.us.us.postloop, %main.pseudo.exit\u001b[39m\n",
      "   \u001b[0m%value_phi4.us.us.postloop \u001b[0m= \u001b[96m\u001b[1mphi\u001b[22m\u001b[39m \u001b[36mi64\u001b[39m \u001b[33m[\u001b[39m \u001b[0m%value_phi4.us.us.copy\u001b[0m, \u001b[91m%main.pseudo.exit\u001b[39m \u001b[33m]\u001b[39m\u001b[0m, \u001b[33m[\u001b[39m \u001b[0m%45\u001b[0m, \u001b[91m%idxend35.us.us.postloop\u001b[39m \u001b[33m]\u001b[39m\n",
      "   \u001b[0m%36 \u001b[0m= \u001b[96m\u001b[1madd\u001b[22m\u001b[39m \u001b[36mi64\u001b[39m \u001b[0m%value_phi4.us.us.postloop\u001b[0m, \u001b[33m-1\u001b[39m\n",
      "   \u001b[0m%inbounds.us.us.postloop \u001b[0m= \u001b[96m\u001b[1micmp\u001b[22m\u001b[39m \u001b[96m\u001b[1mult\u001b[22m\u001b[39m \u001b[36mi64\u001b[39m \u001b[0m%36\u001b[0m, \u001b[0m%arraysize\n",
      "   \u001b[96m\u001b[1mbr\u001b[22m\u001b[39m \u001b[36mi1\u001b[39m \u001b[0m%inbounds.us.us.postloop\u001b[0m, \u001b[36mlabel\u001b[39m \u001b[91m%ib.us.us.postloop\u001b[39m\u001b[0m, \u001b[36mlabel\u001b[39m \u001b[91m%oob\u001b[39m\n",
      "\n",
      "\u001b[91mib.us.us.postloop:\u001b[39m                                \u001b[90m; preds = %L8.us.us.postloop\u001b[39m\n",
      "   \u001b[0m%inbounds13.us.us.postloop \u001b[0m= \u001b[96m\u001b[1micmp\u001b[22m\u001b[39m \u001b[96m\u001b[1mult\u001b[22m\u001b[39m \u001b[36mi64\u001b[39m \u001b[0m%36\u001b[0m, \u001b[0m%arraysize12\n",
      "   \u001b[96m\u001b[1mbr\u001b[22m\u001b[39m \u001b[36mi1\u001b[39m \u001b[0m%inbounds13.us.us.postloop\u001b[0m, \u001b[36mlabel\u001b[39m \u001b[91m%ib14.us.us.postloop\u001b[39m\u001b[0m, \u001b[36mlabel\u001b[39m \u001b[91m%oob19.split.us\u001b[39m\n",
      "\n",
      "\u001b[91mib14.us.us.postloop:\u001b[39m                              \u001b[90m; preds = %ib.us.us.postloop\u001b[39m\n",
      "   \u001b[0m%37 \u001b[0m= \u001b[96m\u001b[1madd\u001b[22m\u001b[39m \u001b[36mi64\u001b[39m \u001b[0m%16\u001b[0m, \u001b[0m%36\n",
      "   \u001b[0m%38 \u001b[0m= \u001b[96m\u001b[1mgetelementptr\u001b[22m\u001b[39m \u001b[95minbounds\u001b[39m \u001b[36mfloat\u001b[39m\u001b[0m, \u001b[36mfloat\u001b[39m\u001b[0m* \u001b[0m%arrayptr47\u001b[0m, \u001b[36mi64\u001b[39m \u001b[0m%37\n",
      "   \u001b[0m%arrayref.us.us.postloop \u001b[0m= \u001b[96m\u001b[1mload\u001b[22m\u001b[39m \u001b[36mfloat\u001b[39m\u001b[0m, \u001b[36mfloat\u001b[39m\u001b[0m* \u001b[0m%38\u001b[0m, \u001b[95malign\u001b[39m \u001b[33m4\u001b[39m\n",
      "   \u001b[0m%39 \u001b[0m= \u001b[96m\u001b[1madd\u001b[22m\u001b[39m \u001b[36mi64\u001b[39m \u001b[0m%17\u001b[0m, \u001b[0m%36\n",
      "   \u001b[0m%40 \u001b[0m= \u001b[96m\u001b[1mgetelementptr\u001b[22m\u001b[39m \u001b[95minbounds\u001b[39m \u001b[36mfloat\u001b[39m\u001b[0m, \u001b[36mfloat\u001b[39m\u001b[0m* \u001b[0m%arrayptr2349\u001b[0m, \u001b[36mi64\u001b[39m \u001b[0m%39\n",
      "   \u001b[0m%arrayref24.us.us.postloop \u001b[0m= \u001b[96m\u001b[1mload\u001b[22m\u001b[39m \u001b[36mfloat\u001b[39m\u001b[0m, \u001b[36mfloat\u001b[39m\u001b[0m* \u001b[0m%40\u001b[0m, \u001b[95malign\u001b[39m \u001b[33m4\u001b[39m\n",
      "\u001b[90m; └\u001b[39m\n",
      "\u001b[90m; ┌ @ float.jl:409 within `+`\u001b[39m\n",
      "   \u001b[0m%41 \u001b[0m= \u001b[96m\u001b[1mfadd\u001b[22m\u001b[39m \u001b[36mfloat\u001b[39m \u001b[0m%arrayref.us.us.postloop\u001b[0m, \u001b[0m%arrayref24.us.us.postloop\n",
      "\u001b[90m; └\u001b[39m\n",
      "\u001b[90m; ┌ @ array.jl:1024 within `setindex!`\u001b[39m\n",
      "   \u001b[0m%arraysize26.us.us.postloop \u001b[0m= \u001b[96m\u001b[1mload\u001b[22m\u001b[39m \u001b[36mi64\u001b[39m\u001b[0m, \u001b[36mi64\u001b[39m\u001b[0m* \u001b[0m%12\u001b[0m, \u001b[95malign\u001b[39m \u001b[33m8\u001b[39m\n",
      "   \u001b[0m%inbounds27.us.us.postloop \u001b[0m= \u001b[96m\u001b[1micmp\u001b[22m\u001b[39m \u001b[96m\u001b[1mult\u001b[22m\u001b[39m \u001b[36mi64\u001b[39m \u001b[0m%36\u001b[0m, \u001b[0m%arraysize26.us.us.postloop\n",
      "   \u001b[96m\u001b[1mbr\u001b[22m\u001b[39m \u001b[36mi1\u001b[39m \u001b[0m%inbounds27.us.us.postloop\u001b[0m, \u001b[36mlabel\u001b[39m \u001b[91m%ib28.us.us.postloop\u001b[39m\u001b[0m, \u001b[36mlabel\u001b[39m \u001b[91m%oob33.split.us.split.us\u001b[39m\n",
      "\n",
      "\u001b[91mib28.us.us.postloop:\u001b[39m                              \u001b[90m; preds = %ib14.us.us.postloop\u001b[39m\n",
      "   \u001b[0m%arraysize31.us.us.postloop \u001b[0m= \u001b[96m\u001b[1mload\u001b[22m\u001b[39m \u001b[36mi64\u001b[39m\u001b[0m, \u001b[36mi64\u001b[39m\u001b[0m* \u001b[0m%13\u001b[0m, \u001b[95malign\u001b[39m \u001b[33m8\u001b[39m\n",
      "   \u001b[0m%inbounds32.us.us.postloop \u001b[0m= \u001b[96m\u001b[1micmp\u001b[22m\u001b[39m \u001b[96m\u001b[1mult\u001b[22m\u001b[39m \u001b[36mi64\u001b[39m \u001b[0m%15\u001b[0m, \u001b[0m%arraysize31.us.us.postloop\n",
      "   \u001b[96m\u001b[1mbr\u001b[22m\u001b[39m \u001b[36mi1\u001b[39m \u001b[0m%inbounds32.us.us.postloop\u001b[0m, \u001b[36mlabel\u001b[39m \u001b[91m%idxend35.us.us.postloop\u001b[39m\u001b[0m, \u001b[36mlabel\u001b[39m \u001b[91m%oob33.split.us.split.us\u001b[39m\n",
      "\n",
      "\u001b[91midxend35.us.us.postloop:\u001b[39m                          \u001b[90m; preds = %ib28.us.us.postloop\u001b[39m\n",
      "   \u001b[0m%42 \u001b[0m= \u001b[96m\u001b[1mmul\u001b[22m\u001b[39m \u001b[36mi64\u001b[39m \u001b[0m%arraysize26.us.us.postloop\u001b[0m, \u001b[0m%15\n",
      "   \u001b[0m%43 \u001b[0m= \u001b[96m\u001b[1madd\u001b[22m\u001b[39m \u001b[36mi64\u001b[39m \u001b[0m%42\u001b[0m, \u001b[0m%36\n",
      "   \u001b[0m%arrayptr3751.us.us.postloop \u001b[0m= \u001b[96m\u001b[1mload\u001b[22m\u001b[39m \u001b[36mfloat\u001b[39m\u001b[0m*\u001b[0m, \u001b[36mfloat\u001b[39m\u001b[0m** \u001b[0m%14\u001b[0m, \u001b[95malign\u001b[39m \u001b[33m8\u001b[39m\n",
      "   \u001b[0m%44 \u001b[0m= \u001b[96m\u001b[1mgetelementptr\u001b[22m\u001b[39m \u001b[95minbounds\u001b[39m \u001b[36mfloat\u001b[39m\u001b[0m, \u001b[36mfloat\u001b[39m\u001b[0m* \u001b[0m%arrayptr3751.us.us.postloop\u001b[0m, \u001b[36mi64\u001b[39m \u001b[0m%43\n",
      "   \u001b[96m\u001b[1mstore\u001b[22m\u001b[39m \u001b[36mfloat\u001b[39m \u001b[0m%41\u001b[0m, \u001b[36mfloat\u001b[39m\u001b[0m* \u001b[0m%44\u001b[0m, \u001b[95malign\u001b[39m \u001b[33m4\u001b[39m\n",
      "\u001b[90m; └\u001b[39m\n",
      "\u001b[90m;  @ In[130]:5 within `prefix_bounds`\u001b[39m\n",
      "\u001b[90m; ┌ @ range.jl:901 within `iterate`\u001b[39m\n",
      "\u001b[90m; │┌ @ promotion.jl:521 within `==`\u001b[39m\n",
      "    \u001b[0m%.not.not.us.us.postloop \u001b[0m= \u001b[96m\u001b[1micmp\u001b[22m\u001b[39m \u001b[96m\u001b[1meq\u001b[22m\u001b[39m \u001b[36mi64\u001b[39m \u001b[0m%value_phi4.us.us.postloop\u001b[0m, \u001b[33m100\u001b[39m\n",
      "\u001b[90m; │└\u001b[39m\n",
      "   \u001b[0m%45 \u001b[0m= \u001b[96m\u001b[1madd\u001b[22m\u001b[39m \u001b[95mnuw\u001b[39m \u001b[95mnsw\u001b[39m \u001b[36mi64\u001b[39m \u001b[0m%value_phi4.us.us.postloop\u001b[0m, \u001b[33m1\u001b[39m\n",
      "\u001b[90m; └\u001b[39m\n",
      "  \u001b[96m\u001b[1mbr\u001b[22m\u001b[39m \u001b[36mi1\u001b[39m \u001b[0m%.not.not.us.us.postloop\u001b[0m, \u001b[36mlabel\u001b[39m \u001b[91m%L25.split.us.split.us\u001b[39m\u001b[0m, \u001b[36mlabel\u001b[39m \u001b[91m%L8.us.us.postloop\u001b[39m\n",
      "\u001b[33m}\u001b[39m\n"
     ]
    }
   ],
   "source": [
    "function prefix_bounds(a,b)\n",
    "    c = similar(a)\n",
    "    for j in 1:100, i in 1:100\n",
    "        c[i,j] = a[i,j] + b[i,j]\n",
    "    end\n",
    "end\n",
    "\n",
    "@btime prefix_bounds($a, $b)\n",
    "@code_llvm prefix_bounds(a,b)"
   ]
  },
  {
   "cell_type": "code",
   "execution_count": 131,
   "metadata": {},
   "outputs": [
    {
     "name": "stdout",
     "output_type": "stream",
     "text": [
      "  1.744 μs (2 allocations: 39.17 KiB)\n"
     ]
    }
   ],
   "source": [
    "function prefix_bounds(a,b)\n",
    "    c = similar(a)\n",
    "    @inbounds for j in 1:100, i in 1:100\n",
    "        c[i,j] = a[i,j] + b[i,j]\n",
    "    end\n",
    "end\n",
    "\n",
    "@btime prefix_bounds($a, $b)"
   ]
  },
  {
   "cell_type": "markdown",
   "metadata": {},
   "source": [
    "When the Julia environment is started with `-check-bounds=yes`, all @inbounds annotations in the code are ignored, and bounds checks are mandatorily performed. Alternatively, when the Julia runtime is started with `-check-bounds=no`, no bound checking is done at all. This is equivalent to annotating all array access with the `@inbounds` macro. This option should only be used sparingly in the case of extremely performancesensitive code, in which the system is very well tested and with minimal user inputs."
   ]
  },
  {
   "cell_type": "markdown",
   "metadata": {},
   "source": [
    "## Broadcasting\n",
    "\n",
    "Performs an operation on each element of an array, rather than on the array as a whole. In many high level languages this is simply called vectorization.  \n",
    "*In Julia, we will call it array vectorization to distinguish it from the SIMD vectorization which is common in lower level languages like C, Fortran, and Julia.*"
   ]
  },
  {
   "cell_type": "code",
   "execution_count": 132,
   "metadata": {},
   "outputs": [
    {
     "data": {
      "text/plain": [
       "4-element Vector{Int64}:\n",
       " 1\n",
       " 2\n",
       " 3\n",
       " 4"
      ]
     },
     "execution_count": 132,
     "metadata": {},
     "output_type": "execute_result"
    }
   ],
   "source": [
    "a=collect(1:4)"
   ]
  },
  {
   "cell_type": "code",
   "execution_count": 133,
   "metadata": {},
   "outputs": [
    {
     "data": {
      "text/plain": [
       "4-element Vector{Float64}:\n",
       " 1.0\n",
       " 1.4142135623730951\n",
       " 1.7320508075688772\n",
       " 2.0"
      ]
     },
     "execution_count": 133,
     "metadata": {},
     "output_type": "execute_result"
    }
   ],
   "source": [
    "sqrt.(a)"
   ]
  },
  {
   "cell_type": "markdown",
   "metadata": {},
   "source": [
    "### Exercises\n",
    "\n",
    "Using these libraries:\n",
    "\n",
    "```julia\n",
    "using BenchmarkTools, Test, SIMD, InteractiveUtils\n",
    "```\n",
    "\n",
    "### **Q1**  \n",
    "Consider the following function that sums all the elements of a vector:  \n",
    "\n",
    "```julia\n",
    "A = rand(__put a BIGNUMBER here__)  \n",
    "\n",
    "function simplesum(A)  \n",
    "    result = zero(eltype(A))  \n",
    "    for i in eachindex(A)  \n",
    "        result += A[i]  \n",
    "    end  \n",
    "    return result  \n",
    "end  \n",
    "```   \n",
    "\n",
    "- Try to optimize it for bounds checks and benchmark against the in-built julia function `sum`\n",
    "- Implement SIMD parallelization and compute the obtained speedup"
   ]
  },
  {
   "cell_type": "code",
   "execution_count": 147,
   "metadata": {},
   "outputs": [
    {
     "name": "stderr",
     "output_type": "stream",
     "text": [
      "\u001b[32m\u001b[1m   Resolving\u001b[22m\u001b[39m package versions...\n",
      "\u001b[32m\u001b[1m   Installed\u001b[22m\u001b[39m SIMD ─ v3.4.6\n",
      "\u001b[32m\u001b[1m    Updating\u001b[22m\u001b[39m `~/.julia/environments/v1.10/Project.toml`\n",
      "  \u001b[90m[fdea26ae] \u001b[39m\u001b[92m+ SIMD v3.4.6\u001b[39m\n",
      "\u001b[32m\u001b[1m    Updating\u001b[22m\u001b[39m `~/.julia/environments/v1.10/Manifest.toml`\n",
      "  \u001b[90m[fdea26ae] \u001b[39m\u001b[92m+ SIMD v3.4.6\u001b[39m\n",
      "\u001b[32m\u001b[1mPrecompiling\u001b[22m\u001b[39m project...\n",
      "\u001b[32m  ✓ \u001b[39mSIMD\n",
      "  1 dependency successfully precompiled in 8 seconds. 229 already precompiled.\n"
     ]
    }
   ],
   "source": [
    "Pkg.add(\"SIMD\")\n",
    "using SIMD"
   ]
  },
  {
   "cell_type": "code",
   "execution_count": 148,
   "metadata": {},
   "outputs": [
    {
     "data": {
      "text/plain": [
       "simplesum (generic function with 1 method)"
      ]
     },
     "execution_count": 148,
     "metadata": {},
     "output_type": "execute_result"
    }
   ],
   "source": [
    "using BenchmarkTools, SIMD\n",
    "\n",
    "A = rand(10^8)  \n",
    "\n",
    "function simplesum(A)\n",
    "    result = zero(eltype(A))  \n",
    "    for i in eachindex(A)  \n",
    "        @inbounds result += A[i]  \n",
    "    end  \n",
    "    return result  \n",
    "end"
   ]
  },
  {
   "cell_type": "code",
   "execution_count": 149,
   "metadata": {},
   "outputs": [
    {
     "name": "stdout",
     "output_type": "stream",
     "text": [
      "My simplesum minimum time = 144.027083\n",
      "Built-in minimum time = 27.758167\n"
     ]
    }
   ],
   "source": [
    "builtin_bench = @benchmark sum($A)\n",
    "my_bench = @benchmark simplesum($A)\n",
    "\n",
    "println(\"My simplesum minimum time = \", minimum(my_bench.times) / 1e6)\n",
    "println(\"Built-in minimum time = \", minimum(builtin_bench.times) / 1e6)"
   ]
  },
  {
   "cell_type": "code",
   "execution_count": 150,
   "metadata": {},
   "outputs": [
    {
     "data": {
      "text/plain": [
       "2-element Vector{Float64}:\n",
       " 1.0\n",
       " 3.992370837344596"
      ]
     },
     "execution_count": 150,
     "metadata": {},
     "output_type": "execute_result"
    }
   ],
   "source": [
    "serial_t = @belapsed simplesum(A)\n",
    "\n",
    "function simdsum(A)\n",
    "    result = zero(eltype(A))\n",
    "    @simd for i in eachindex(A)\n",
    "        @inbounds result += A[i]\n",
    "    end\n",
    "    return result\n",
    "end\n",
    "\n",
    "simd_t = @belapsed simdsum(A)\n",
    "\n",
    "times = [serial_t, simd_t]\n",
    "speedup = maximum(times) ./ times"
   ]
  },
  {
   "cell_type": "markdown",
   "metadata": {},
   "source": [
    "### **Q2**\n",
    "\n",
    "The following function estimates pi with n samples. \n",
    "\n",
    "    - Optimize it for bounds checks\n",
    "    - Use `time()` function in order to measure elapsed execution time for the function. If you don't know ho to use it, why not typing `?time()` ?\n",
    "    - Parallelize the code in order to exploit SIMD and measure elapsed execution time\n",
    "    - Compute relative error with respect to true Julia value of `PI` and compare the one obtained from SIMD version with the no-SIMD version"
   ]
  },
  {
   "cell_type": "code",
   "execution_count": 161,
   "metadata": {},
   "outputs": [
    {
     "data": {
      "text/plain": [
       "10000000"
      ]
     },
     "execution_count": 161,
     "metadata": {},
     "output_type": "execute_result"
    }
   ],
   "source": [
    "n = 10^7"
   ]
  },
  {
   "cell_type": "code",
   "execution_count": 168,
   "metadata": {},
   "outputs": [
    {
     "data": {
      "text/plain": [
       "BenchmarkTools.Trial: 128 samples with 1 evaluation.\n",
       " Range \u001b[90m(\u001b[39m\u001b[36m\u001b[1mmin\u001b[22m\u001b[39m … \u001b[35mmax\u001b[39m\u001b[90m):  \u001b[39m\u001b[36m\u001b[1m38.747 ms\u001b[22m\u001b[39m … \u001b[35m 40.771 ms\u001b[39m  \u001b[90m┊\u001b[39m GC \u001b[90m(\u001b[39mmin … max\u001b[90m): \u001b[39m0.00% … 0.00%\n",
       " Time  \u001b[90m(\u001b[39m\u001b[34m\u001b[1mmedian\u001b[22m\u001b[39m\u001b[90m):     \u001b[39m\u001b[34m\u001b[1m39.180 ms               \u001b[22m\u001b[39m\u001b[90m┊\u001b[39m GC \u001b[90m(\u001b[39mmedian\u001b[90m):    \u001b[39m0.00%\n",
       " Time  \u001b[90m(\u001b[39m\u001b[32m\u001b[1mmean\u001b[22m\u001b[39m ± \u001b[32mσ\u001b[39m\u001b[90m):   \u001b[39m\u001b[32m\u001b[1m39.275 ms\u001b[22m\u001b[39m ± \u001b[32m333.704 μs\u001b[39m  \u001b[90m┊\u001b[39m GC \u001b[90m(\u001b[39mmean ± σ\u001b[90m):  \u001b[39m0.00% ± 0.00%\n",
       "\n",
       "  \u001b[39m \u001b[39m \u001b[39m \u001b[39m \u001b[39m \u001b[39m \u001b[39m \u001b[39m \u001b[39m▄\u001b[39m▇\u001b[39m▄\u001b[39m█\u001b[39m█\u001b[34m▆\u001b[39m\u001b[39m▄\u001b[39m \u001b[32m \u001b[39m\u001b[39m \u001b[39m \u001b[39m \u001b[39m \u001b[39m \u001b[39m \u001b[39m \u001b[39m \u001b[39m \u001b[39m \u001b[39m \u001b[39m \u001b[39m \u001b[39m \u001b[39m \u001b[39m \u001b[39m \u001b[39m \u001b[39m \u001b[39m \u001b[39m \u001b[39m \u001b[39m \u001b[39m \u001b[39m \u001b[39m \u001b[39m \u001b[39m \u001b[39m \u001b[39m \u001b[39m \u001b[39m \u001b[39m \u001b[39m \u001b[39m \u001b[39m \u001b[39m \u001b[39m \u001b[39m \u001b[39m \u001b[39m \u001b[39m \u001b[39m \u001b[39m \u001b[39m \n",
       "  \u001b[39m▃\u001b[39m▁\u001b[39m▃\u001b[39m▁\u001b[39m▃\u001b[39m▁\u001b[39m▄\u001b[39m▅\u001b[39m█\u001b[39m█\u001b[39m█\u001b[39m█\u001b[39m█\u001b[34m█\u001b[39m\u001b[39m█\u001b[39m▅\u001b[32m█\u001b[39m\u001b[39m▆\u001b[39m▆\u001b[39m▇\u001b[39m▆\u001b[39m▅\u001b[39m▃\u001b[39m▃\u001b[39m▃\u001b[39m▄\u001b[39m▁\u001b[39m▁\u001b[39m▁\u001b[39m▁\u001b[39m▁\u001b[39m▁\u001b[39m▁\u001b[39m▁\u001b[39m▃\u001b[39m▁\u001b[39m▁\u001b[39m▃\u001b[39m▄\u001b[39m▁\u001b[39m▁\u001b[39m▃\u001b[39m▃\u001b[39m▁\u001b[39m▃\u001b[39m▁\u001b[39m▁\u001b[39m▁\u001b[39m▁\u001b[39m▁\u001b[39m▁\u001b[39m▁\u001b[39m▁\u001b[39m▁\u001b[39m▁\u001b[39m▃\u001b[39m▁\u001b[39m▁\u001b[39m▁\u001b[39m▃\u001b[39m \u001b[39m▃\n",
       "  38.7 ms\u001b[90m         Histogram: frequency by time\u001b[39m         40.7 ms \u001b[0m\u001b[1m<\u001b[22m\n",
       "\n",
       " Memory estimate\u001b[90m: \u001b[39m\u001b[33m0 bytes\u001b[39m, allocs estimate\u001b[90m: \u001b[39m\u001b[33m0\u001b[39m."
      ]
     },
     "execution_count": 168,
     "metadata": {},
     "output_type": "execute_result"
    }
   ],
   "source": [
    "function estimatepi(n)\n",
    "    area_circle = 0\n",
    "    for i = 1:n\n",
    "        x, y = rand(), rand();\n",
    "        r = x^2 + y^2\n",
    "        if r < 1.0\n",
    "            area_circle +=1\n",
    "        end\n",
    "    end\n",
    "    return 4* area_circle/n\n",
    "end\n",
    "\n",
    "@benchmark estimatepi(10^7)"
   ]
  },
  {
   "cell_type": "code",
   "execution_count": 170,
   "metadata": {},
   "outputs": [
    {
     "data": {
      "text/plain": [
       "0.038839375"
      ]
     },
     "execution_count": 170,
     "metadata": {},
     "output_type": "execute_result"
    }
   ],
   "source": [
    "function modified_estimatepi(n)\n",
    "    area_circle = 0\n",
    "    @simd for i = 1:n\n",
    "        x, y = rand(), rand();\n",
    "        r = x^2 + y^2\n",
    "        if r < 1.0\n",
    "            @inbounds area_circle +=1\n",
    "        end\n",
    "    end\n",
    "    return 4* area_circle/n\n",
    "end\n",
    "\n",
    "t = @belapsed modified_estimatepi(10^7)"
   ]
  },
  {
   "cell_type": "markdown",
   "metadata": {},
   "source": [
    "## Last exercise\n",
    "\n",
    "TODO"
   ]
  },
  {
   "cell_type": "markdown",
   "metadata": {},
   "source": [
    "# CPU parallelism\n",
    "\n",
    "A modern computer can appear to do many things in parallel. It can play music while you are writing a report, run your tests when you are typing code, or run a web server in the background. There are many layers to achieving this level of multiprocessing in Julia.\n",
    "\n",
    "Julia exhibits an excellent productivity as high-level programming language without sacrificing performance. In fact it:\n",
    "- is a dynamically typed high-level languague\n",
    "- has a built-in packages manager\n",
    "- has an interactive development\n",
    "- has JIT-compilation\n",
    "- has reflection and metaprogramming\n",
    "- has great performances\n",
    "Moreover Julia avoids runtime uncertainties thanks to its sophisticated type system, multiple dispatch and type interference. Nonetheless most of the Julia code is written in Julia, functions are generic and dynamic since types are inferred. Last, but not least, LLVM code is generated by JIT-compiler, which is then optimized and compiled to native code.\n",
    "\n",
    "Topics covered in this section (and on following notebooks):\n",
    "* __Elements of supercomputing and parallel programming__ \n",
    "* __Julia parallel computing__:\n",
    "    * SIMD\n",
    "    * Tasks\n",
    "    * Multi-threading\n",
    "    * Distributed computing\n",
    "    * GPU computing"
   ]
  },
  {
   "cell_type": "markdown",
   "metadata": {},
   "source": [
    "An algorithm that uses only a single core is referred to as a __serial algorithm__. These algorithms complete one instruction at a time, in order. \n",
    "\n",
    "Parallelization means converting a serial algorithm that can perform multiple operations simultaneously.  \n",
    "\n",
    "Most programs in Julia run on a single thread, on a single processor core. In other words, most processing in Julia is __synchronous__. "
   ]
  },
  {
   "cell_type": "code",
   "execution_count": 171,
   "metadata": {},
   "outputs": [
    {
     "name": "stdout",
     "output_type": "stream",
     "text": [
      "  5.011192 seconds (124 allocations: 3.297 KiB)\n"
     ]
    }
   ],
   "source": [
    "#How long does this take?\n",
    "@time for i in 1:5\n",
    "    sleep(1)\n",
    "end"
   ]
  },
  {
   "cell_type": "code",
   "execution_count": 172,
   "metadata": {},
   "outputs": [
    {
     "name": "stdout",
     "output_type": "stream",
     "text": [
      "  0.011853 seconds (2.82 k allocations: 203.891 KiB, 96.87% compilation time)\n"
     ]
    }
   ],
   "source": [
    "@time for i in 1:5\n",
    "    @async sleep(1) # creates and schedules tasks for all code within its scope\n",
    "end"
   ]
  },
  {
   "cell_type": "code",
   "execution_count": 174,
   "metadata": {},
   "outputs": [
    {
     "name": "stdout",
     "output_type": "stream",
     "text": [
      "  1.007544 seconds (7.84 k allocations: 556.898 KiB, 0.48% compilation time)\n"
     ]
    }
   ],
   "source": [
    "@time @sync for i in 1:5\n",
    "    @async sleep(1)\n",
    "end"
   ]
  },
  {
   "cell_type": "markdown",
   "metadata": {},
   "source": [
    "The `@async` macro creates and schedules tasks for all code within its scope, which means all the sleep calls happen in separate tasks. The for loop, which is running on the REPL task, returns almost immediately. Since the for loop returns, we cannot even observe the sleep occurring. It happens completely in the background.\n",
    "\n",
    "`@sync` macro will pause a task until all tasks created by it have finished execution. \n",
    "\n",
    "This parallelism is somewhat simulated. While tasks can be interrupted and switch between one another, at any one time, only one task is running on the CPU. Thus, you will see a performance benefit only for code that is doing something but not taking CPU resources: this typically means it is waiting for some I/O, or as in the degenerate case previously, sleeping. Hence this pattern of code is useful in programs that are I/O heavy—where code spends a lot of time waiting for disk or network data."
   ]
  },
  {
   "cell_type": "markdown",
   "metadata": {},
   "source": [
    "## Julia multithreading with `Threads`  \n",
    "\n",
    "Threads are sequences of computation that can run independently on a CPU core, simultaneously with other such sequences. Julia uses a task-based model, where we have a fixed number of threads and schedule defined pieces of work onto them.\n",
    "- Unlike tasks, which are lightweight, threads need to store some state when they are switched  \n",
    "- While you can have hundreds or thousands of tasks in your program, you should only have a limited number of threads. The general advice is that the number of threads should correspond directly to the number of CPU cores you have  \n",
    "- Share the same memory space\n",
    "\n",
    "**They have some cost:**\n",
    "- Synchronisation issue: multiple threads can be accessed by the same variable.\n",
    "- All threads must live in the same physical machine.\n",
    "\n",
    "### Key terminology\n",
    "- __Tasks__: computational tasks such as function  \n",
    "- __Spawning a task__: assigning a computational task on different threads that run simultaneously  \n",
    "- __Workload__: amount of work required to compute a task  \n",
    "- __Composable task parallelism__: a task can spawn new tasks  "
   ]
  },
  {
   "cell_type": "markdown",
   "metadata": {},
   "source": [
    "how many physical core do we have?"
   ]
  },
  {
   "cell_type": "code",
   "execution_count": 177,
   "metadata": {},
   "outputs": [
    {
     "name": "stdout",
     "output_type": "stream",
     "text": [
      "Julia Version 1.10.1\n",
      "Commit 7790d6f0641 (2024-02-13 20:41 UTC)\n",
      "Build Info:\n",
      "  Official https://julialang.org/ release\n",
      "Platform Info:\n",
      "  OS: macOS (arm64-apple-darwin22.4.0)\n",
      "  uname: Darwin 23.0.0 Darwin Kernel Version 23.0.0: Fri Sep 15 14:42:57 PDT 2023; root:xnu-10002.1.13~1/RELEASE_ARM64_T8112 arm64 arm\n",
      "  CPU: Apple M2: \n",
      "              speed         user         nice          sys         idle          irq\n",
      "       #1  2400 MHz      94751 s          0 s      64650 s     881036 s          0 s\n",
      "       #2  2400 MHz      87445 s          0 s      58101 s     895409 s          0 s\n",
      "       #3  2400 MHz      76445 s          0 s      47776 s     917746 s          0 s\n",
      "       #4  2400 MHz      68290 s          0 s      40273 s     934200 s          0 s\n",
      "       #5  2400 MHz     246405 s          0 s      15551 s     782358 s          0 s\n",
      "       #6  2400 MHz     236674 s          0 s      11659 s     796170 s          0 s\n",
      "       #7  2400 MHz     224833 s          0 s       7866 s     811975 s          0 s\n",
      "       #8  2400 MHz     223172 s          0 s       7442 s     814178 s          0 s\n",
      "  Memory: 8.0 GB (181.75 MB free)\n",
      "  Uptime: 1.179219e6 sec\n",
      "  Load Avg:  5.43505859375  5.17138671875  5.1162109375\n",
      "  WORD_SIZE: 64\n",
      "  LIBM: libopenlibm\n",
      "  LLVM: libLLVM-15.0.7 (ORCJIT, apple-m1)\n",
      "Threads: 1 default, 0 interactive, 1 GC (on 4 virtual cores)\n",
      "Environment:\n",
      "  HOME = /Users/keivan\n",
      "  HOMEBREW_CELLAR = /opt/homebrew/Cellar\n",
      "  HOMEBREW_PREFIX = /opt/homebrew\n",
      "  HOMEBREW_REPOSITORY = /opt/homebrew\n",
      "  INFOPATH = /opt/homebrew/share/info:\n",
      "  MANPATH = /opt/homebrew/share/man::\n",
      "  PATH = /Users/keivan/.julia/juliaup/julia-1.10.1+0.aarch64.apple.darwin14/bin:/Users/keivan/.juliaup/bin:/opt/homebrew/bin:/opt/homebrew/sbin:/usr/local/bin:/System/Cryptexes/App/usr/bin:/usr/bin:/bin:/usr/sbin:/sbin:/var/run/com.apple.security.cryptexd/codex.system/bootstrap/usr/local/bin:/var/run/com.apple.security.cryptexd/codex.system/bootstrap/usr/bin:/var/run/com.apple.security.cryptexd/codex.system/bootstrap/usr/appleinternal/bin:/Library/TeX/texbin\n",
      "  VSCODE_CODE_CACHE_PATH = /Users/keivan/Library/Application Support/Code/CachedData/903b1e9d8990623e3d7da1df3d33db3e42d80eda\n",
      "  XPC_FLAGS = 0x0\n"
     ]
    }
   ],
   "source": [
    "versioninfo(verbose=true)"
   ]
  },
  {
   "cell_type": "markdown",
   "metadata": {},
   "source": [
    "## Starting and using `threads`\n",
    "\n",
    "The number of real threads that Julia can run is fixed at startup. It must be set on `JULIA_NUM_THREADS` environmental variable and is checked when the Julia runtime starts up. If the variable is not set, the default number of threads is 1.  \n",
    "\n",
    "1) Open a terminal and write `export JULIA_NUM_THREADS = 4`\n",
    "2) Open Julia, or if you want to use an IDE (such as VSCode), type `code .`\n",
    "3) Once Julia kernel is started, you can check the number of threads using the `nthreads()` function. \n"
   ]
  },
  {
   "cell_type": "code",
   "execution_count": 6,
   "metadata": {},
   "outputs": [
    {
     "name": "stderr",
     "output_type": "stream",
     "text": [
      "\u001b[32m\u001b[1m    Updating\u001b[22m\u001b[39m registry at `~/.julia/registries/General.toml`\n",
      "\u001b[32m\u001b[1m   Resolving\u001b[22m\u001b[39m package versions...\n",
      "\u001b[32m\u001b[1m  No Changes\u001b[22m\u001b[39m to `~/.julia/environments/v1.10/Project.toml`\n",
      "\u001b[32m\u001b[1m  No Changes\u001b[22m\u001b[39m to `~/.julia/environments/v1.10/Manifest.toml`\n"
     ]
    }
   ],
   "source": [
    "Pkg.add(\"Hwloc\")\n",
    "using Hwloc"
   ]
  },
  {
   "cell_type": "code",
   "execution_count": 7,
   "metadata": {},
   "outputs": [
    {
     "data": {
      "text/plain": [
       "8"
      ]
     },
     "execution_count": 7,
     "metadata": {},
     "output_type": "execute_result"
    }
   ],
   "source": [
    "Hwloc.num_physical_cores()"
   ]
  },
  {
   "cell_type": "code",
   "execution_count": 10,
   "metadata": {},
   "outputs": [
    {
     "name": "stdout",
     "output_type": "stream",
     "text": [
      "iteration 1 Hello Julia from thread 1\n",
      "iteration 2 Hello Julia from thread 1\n",
      "iteration 3 Hello Julia from thread 1\n",
      "iteration 4 Hello Julia from thread 1\n",
      "iteration 5 Hello Julia from thread 1\n",
      "iteration 6 Hello Julia from thread 1\n",
      "iteration 7 Hello Julia from thread 1\n",
      "iteration 8 Hello Julia from thread 1\n"
     ]
    },
    {
     "data": {
      "text/plain": [
       "4"
      ]
     },
     "execution_count": 10,
     "metadata": {},
     "output_type": "execute_result"
    }
   ],
   "source": [
    "using Base.Threads, BenchmarkTools\n",
    "\n",
    "# squential \n",
    "for i = 1:8\n",
    "    println(\"iteration $i Hello Julia from thread \", threadid())\n",
    "  end \n",
    "\n",
    "nthreads()"
   ]
  },
  {
   "cell_type": "code",
   "execution_count": 11,
   "metadata": {},
   "outputs": [
    {
     "name": "stdout",
     "output_type": "stream",
     "text": [
      "iteration 5 Hello Julia from thread 3\n",
      "iteration 1 Hello Julia from thread 1\n",
      "iteration 2 Hello Julia from thread 2\n",
      "iteration 7 Hello Julia from thread 2\n",
      "iteration 3 Hello Julia from thread 4\n",
      "iteration 6 Hello Julia from thread 3\n",
      "iteration 8 Hello Julia from thread 2\n",
      "iteration 4 Hello Julia from thread 4\n"
     ]
    }
   ],
   "source": [
    "#The @threads macro\n",
    "    @threads for i = 1:8\n",
    "        println(\"iteration $i Hello Julia from thread \", threadid())\n",
    "      end  "
   ]
  },
  {
   "cell_type": "markdown",
   "metadata": {},
   "source": [
    "`@spawn` macro runs a function on some available thread. This is an example of __non-blocking__ function. `fetch` waits for a Task to finish, then return its result value. "
   ]
  },
  {
   "cell_type": "code",
   "execution_count": 45,
   "metadata": {},
   "outputs": [
    {
     "name": "stdout",
     "output_type": "stream",
     "text": [
      "Hello Julia from thread 1\n"
     ]
    },
    {
     "data": {
      "text/plain": [
       "Task (done) @0x0000000294d54e20"
      ]
     },
     "execution_count": 45,
     "metadata": {},
     "output_type": "execute_result"
    }
   ],
   "source": [
    "@spawn println(\"Hello Julia from thread \", threadid()) "
   ]
  },
  {
   "cell_type": "code",
   "execution_count": 46,
   "metadata": {},
   "outputs": [
    {
     "name": "stdout",
     "output_type": "stream",
     "text": [
      "2 1 1 1 1 1 2 2 4 3 4 3 4 3 2 3 2 3 2 4 3 4 4 4 2 2 1 2 2 1 "
     ]
    }
   ],
   "source": [
    "for i in 1:30\n",
    "    print(fetch(@spawn threadid()), \" \")\n",
    "end"
   ]
  },
  {
   "cell_type": "markdown",
   "metadata": {},
   "source": [
    "we are not seeing the thread number 1, since it is now working to show the others thread!"
   ]
  },
  {
   "cell_type": "markdown",
   "metadata": {},
   "source": [
    "## Thread safety\n",
    "Threads imply code running simultaneously on multiple processor cores in a computer. The processors and the code running within them have access to the entire memory of the computer. This means that code in two threads can attempt to change the same piece of data in memory at the same time. This is called __race condition__. The result of an operation can be wrong and random at each execution and a multithreaded function can also be slower than the serial one."
   ]
  },
  {
   "cell_type": "code",
   "execution_count": 47,
   "metadata": {},
   "outputs": [
    {
     "data": {
      "text/plain": [
       "sum_thread_serial (generic function with 1 method)"
      ]
     },
     "execution_count": 47,
     "metadata": {},
     "output_type": "execute_result"
    }
   ],
   "source": [
    "function sum_thread_serial(x)\n",
    "    r = zero(eltype(x))\n",
    "    for i in eachindex(x)\n",
    "        @inbounds r += x[i]\n",
    "    end\n",
    "    return r \n",
    "end"
   ]
  },
  {
   "cell_type": "code",
   "execution_count": 64,
   "metadata": {},
   "outputs": [
    {
     "data": {
      "text/plain": [
       "50019.80897738643"
      ]
     },
     "execution_count": 64,
     "metadata": {},
     "output_type": "execute_result"
    }
   ],
   "source": [
    "sum_thread_serial(rand(100000))"
   ]
  },
  {
   "cell_type": "markdown",
   "metadata": {},
   "source": [
    "One solution to make `r` as an __atomic__ variable. Adding a value to r will be a single indivisible operation and only one thread at the time is allowed to update the result in that memory address. "
   ]
  },
  {
   "cell_type": "code",
   "execution_count": 72,
   "metadata": {},
   "outputs": [
    {
     "data": {
      "text/plain": [
       "50001.86747508756"
      ]
     },
     "execution_count": 72,
     "metadata": {},
     "output_type": "execute_result"
    }
   ],
   "source": [
    "function sum_thread_atomic(x)\n",
    "    r = Atomic{eltype(x)}(zero(eltype(x)))\n",
    "    @threads for i in eachindex(x)\n",
    "        @inbounds atomic_add!(r, x[i])\n",
    "    end\n",
    "    return r[]\n",
    "end\n",
    "\n",
    "sum_thread_atomic(rand(100000))"
   ]
  },
  {
   "cell_type": "markdown",
   "metadata": {},
   "source": [
    "Not every multithreading system works fastly and in an accurate manner! Sometimes they can make mess, since multiple threads can work on the same variable, performing operations that the designer do not want e.g. Atomi variables and functions make us fix this problem, but they are too slow."
   ]
  },
  {
   "cell_type": "markdown",
   "metadata": {},
   "source": [
    "There are fortunately other ways to make a workaround for this issue. For example we could store partial results indipendently for each thread in a temporary array, so that each thread updates only one element."
   ]
  },
  {
   "cell_type": "code",
   "execution_count": 74,
   "metadata": {},
   "outputs": [
    {
     "data": {
      "text/plain": [
       "threaded_sum_workaround (generic function with 1 method)"
      ]
     },
     "execution_count": 74,
     "metadata": {},
     "output_type": "execute_result"
    }
   ],
   "source": [
    "function threaded_sum_workaround(x)\n",
    "    partial = zeros(eltype(x), nthreads())\n",
    "    @threads for i in eachindex(x)\n",
    "        @inbounds partial[threadid()] += x[i]\n",
    "    end\n",
    "    r = zero(eltype(x))\n",
    "    for i in eachindex(partial)\n",
    "        r += partial[i]\n",
    "    end\n",
    "    return r\n",
    "end"
   ]
  },
  {
   "cell_type": "markdown",
   "metadata": {},
   "source": [
    "With this modality, we get the right results, with very fast time, since each thread updates only one element without any interferation on the work."
   ]
  },
  {
   "cell_type": "markdown",
   "metadata": {},
   "source": [
    "we can split the works between different threads by dividing different portions of a single array, in order to dedicate different portiosn of the array to different threads."
   ]
  },
  {
   "cell_type": "code",
   "execution_count": 75,
   "metadata": {},
   "outputs": [
    {
     "name": "stdout",
     "output_type": "stream",
     "text": [
      "  19.515 ms (22 allocations: 2.22 KiB)\n"
     ]
    },
    {
     "data": {
      "text/plain": [
       "378080.3915203181"
      ]
     },
     "execution_count": 75,
     "metadata": {},
     "output_type": "execute_result"
    }
   ],
   "source": [
    "a = rand(1000000)\n",
    "\n",
    "function sum_thread_split(A)\n",
    "    r = Atomic{eltype(A)}(zero(eltype(A)))\n",
    "    len, rem = divrem(length(A), nthreads())\n",
    "    #Split the array equally among the threads\n",
    "    @threads for t in 1:nthreads()\n",
    "        r[] = zero(eltype(A))\n",
    "        @simd for i in (1:len) .+ (t-1)*len\n",
    "            @inbounds r[] += A[i]\n",
    "        end\n",
    "        atomic_add!(r, r[])\n",
    "    end\n",
    "    result = r[]\n",
    "    #process up the remaining data\n",
    "    @simd for i in length(A)-rem+1:length(A)\n",
    "        @inbounds result += A[i]\n",
    "    end\n",
    "    return result\n",
    "end\n",
    "\n",
    "@btime sum_thread_split($a)"
   ]
  },
  {
   "cell_type": "markdown",
   "metadata": {},
   "source": [
    "## Scheduling threads\n",
    "\n",
    "Two of the most used scheduling patterns are quite common in Julia and can be achieved with `@threads`. \n",
    "\n",
    "__Static Scheduling__ is the mechanism where the order/way that the threads/processes are executing in the code is already controlled, by evenly dividing the amount of work among all available threads. If any synchronization primitive (locks, semaphores, joins, sleeps) has been used over threads in the program, then static scheduling is on. This is useful if workload is known a priori before code execution.  \n",
    "\n",
    "__Dynamic Scheduling__ is the mechanism where thread scheduling is done by the operating systems based on any scheduling algorithm implemented in OS level. So the execution order of threads will be completely dependent on that algorithm, unless we have put some control on it. It is faster but often it is not thread-safe. This is useful when the exact workload of subtasks before execution is unknown."
   ]
  },
  {
   "cell_type": "code",
   "execution_count": 82,
   "metadata": {},
   "outputs": [
    {
     "data": {
      "text/plain": [
       "5044.834607021272"
      ]
     },
     "execution_count": 82,
     "metadata": {},
     "output_type": "execute_result"
    }
   ],
   "source": [
    "a = rand(10000)  # Create array of random numbers\n",
    "p = zeros(nthreads())  # Allocate a partial sum for each thread\n",
    "# Threads macro splits the iterations of array `a` evenly among threads\n",
    "@threads for x in a\n",
    "   p[threadid()] += x  #Compute partial sums for each thread\n",
    "end\n",
    "s = sum(p)  # Compute the total sum = total workload"
   ]
  },
  {
   "cell_type": "code",
   "execution_count": 85,
   "metadata": {},
   "outputs": [
    {
     "name": "stdout",
     "output_type": "stream",
     "text": [
      "[0.247, 0.252, 0.251, 0.25]\n"
     ]
    }
   ],
   "source": [
    "# we can see workload balancing by computing the ratio of workload per thread to the total workload.\n",
    "println(round.(p/s, digits=3))"
   ]
  },
  {
   "cell_type": "code",
   "execution_count": 87,
   "metadata": {},
   "outputs": [
    {
     "data": {
      "text/plain": [
       "25.541999999999987"
      ]
     },
     "execution_count": 87,
     "metadata": {},
     "output_type": "execute_result"
    }
   ],
   "source": [
    "function task()\n",
    "    x = rand(0.001:0.001:0.05)  # Generate a variable workload\n",
    "    return x  # Return the workload\n",
    "end\n",
    "\n",
    "n = 1000  # Number of tasks\n",
    "p = zeros(Threads.nthreads())  # Total workload per thread\n",
    "@sync for i in 1:n\n",
    "   @spawn p[Threads.threadid()] += task()  # Spawn tasks and sum the workload\n",
    "end\n",
    "s = sum(p)"
   ]
  },
  {
   "cell_type": "code",
   "execution_count": 88,
   "metadata": {},
   "outputs": [
    {
     "name": "stdout",
     "output_type": "stream",
     "text": [
      "[0.17, 0.739, 0.089, 0.001]\n"
     ]
    }
   ],
   "source": [
    "println(round.(p/s, digits=3))"
   ]
  },
  {
   "cell_type": "markdown",
   "metadata": {},
   "source": [
    "## Exercises\n"
   ]
  },
  {
   "cell_type": "markdown",
   "metadata": {},
   "source": [
    "## __Q1__\n",
    "The following function estimates π with n samples. \n",
    "\n",
    "- Parallelize the code using `@threads`and creating the function `estimatepi_threads(n)` (Hint: apart from modifying the function parallelize function call `estimates[i] = estimatepi_threads(10000000/nt)` in order to assign one thread to each i)  \n",
    "- Take as estimated π value the mean computed with `Statistics` package\n",
    "- Measure elapsed execution time for a big number of points and compute the obtained speedup.\n",
    "- What happens if the number of threads increases? Will you get always higher speedups?\n",
    "- π relative error for serial code is bigger or smaller than parallel code one? "
   ]
  },
  {
   "cell_type": "code",
   "execution_count": 109,
   "metadata": {},
   "outputs": [
    {
     "data": {
      "text/plain": [
       "BenchmarkTools.Trial: 124 samples with 1 evaluation.\n",
       " Range \u001b[90m(\u001b[39m\u001b[36m\u001b[1mmin\u001b[22m\u001b[39m … \u001b[35mmax\u001b[39m\u001b[90m):  \u001b[39m\u001b[36m\u001b[1m38.928 ms\u001b[22m\u001b[39m … \u001b[35m44.338 ms\u001b[39m  \u001b[90m┊\u001b[39m GC \u001b[90m(\u001b[39mmin … max\u001b[90m): \u001b[39m0.00% … 0.00%\n",
       " Time  \u001b[90m(\u001b[39m\u001b[34m\u001b[1mmedian\u001b[22m\u001b[39m\u001b[90m):     \u001b[39m\u001b[34m\u001b[1m40.150 ms              \u001b[22m\u001b[39m\u001b[90m┊\u001b[39m GC \u001b[90m(\u001b[39mmedian\u001b[90m):    \u001b[39m0.00%\n",
       " Time  \u001b[90m(\u001b[39m\u001b[32m\u001b[1mmean\u001b[22m\u001b[39m ± \u001b[32mσ\u001b[39m\u001b[90m):   \u001b[39m\u001b[32m\u001b[1m40.339 ms\u001b[22m\u001b[39m ± \u001b[32m 1.048 ms\u001b[39m  \u001b[90m┊\u001b[39m GC \u001b[90m(\u001b[39mmean ± σ\u001b[90m):  \u001b[39m0.00% ± 0.00%\n",
       "\n",
       "  \u001b[39m \u001b[39m \u001b[39m \u001b[39m \u001b[39m \u001b[39m \u001b[39m█\u001b[39m \u001b[39m \u001b[39m \u001b[39m \u001b[39m \u001b[39m \u001b[39m \u001b[39m \u001b[34m \u001b[39m\u001b[39m \u001b[32m \u001b[39m\u001b[39m \u001b[39m \u001b[39m \u001b[39m \u001b[39m \u001b[39m \u001b[39m \u001b[39m \u001b[39m \u001b[39m \u001b[39m \u001b[39m \u001b[39m \u001b[39m \u001b[39m \u001b[39m \u001b[39m \u001b[39m \u001b[39m \u001b[39m \u001b[39m \u001b[39m \u001b[39m \u001b[39m \u001b[39m \u001b[39m \u001b[39m \u001b[39m \u001b[39m \u001b[39m \u001b[39m \u001b[39m \u001b[39m \u001b[39m \u001b[39m \u001b[39m \u001b[39m \u001b[39m \u001b[39m \u001b[39m \u001b[39m \u001b[39m \u001b[39m \n",
       "  \u001b[39m▃\u001b[39m▁\u001b[39m▄\u001b[39m▆\u001b[39m▄\u001b[39m▆\u001b[39m█\u001b[39m▄\u001b[39m▅\u001b[39m▆\u001b[39m▅\u001b[39m▃\u001b[39m▆\u001b[39m▄\u001b[39m▄\u001b[34m▆\u001b[39m\u001b[39m▆\u001b[32m▅\u001b[39m\u001b[39m▅\u001b[39m▅\u001b[39m▄\u001b[39m▄\u001b[39m▄\u001b[39m▄\u001b[39m▄\u001b[39m▄\u001b[39m▄\u001b[39m▃\u001b[39m▄\u001b[39m▃\u001b[39m▁\u001b[39m▄\u001b[39m▁\u001b[39m▃\u001b[39m▃\u001b[39m▃\u001b[39m▄\u001b[39m▁\u001b[39m▁\u001b[39m▁\u001b[39m▁\u001b[39m▁\u001b[39m▃\u001b[39m▁\u001b[39m▄\u001b[39m▁\u001b[39m▃\u001b[39m▁\u001b[39m▃\u001b[39m▃\u001b[39m▃\u001b[39m▁\u001b[39m▁\u001b[39m▁\u001b[39m▁\u001b[39m▁\u001b[39m▁\u001b[39m▁\u001b[39m▃\u001b[39m \u001b[39m▃\n",
       "  38.9 ms\u001b[90m         Histogram: frequency by time\u001b[39m        43.7 ms \u001b[0m\u001b[1m<\u001b[22m\n",
       "\n",
       " Memory estimate\u001b[90m: \u001b[39m\u001b[33m16 bytes\u001b[39m, allocs estimate\u001b[90m: \u001b[39m\u001b[33m1\u001b[39m."
      ]
     },
     "execution_count": 109,
     "metadata": {},
     "output_type": "execute_result"
    }
   ],
   "source": [
    "n = 10000000\n",
    "\n",
    "function estimatepi(n)\n",
    "    area_circle = 0\n",
    "    @inbounds for i = 1:n\n",
    "        x, y = rand(), rand();\n",
    "        r = x^2 + y^2\n",
    "        if r < 1.0\n",
    "            area_circle +=1\n",
    "        end\n",
    "    end\n",
    "    return 4* area_circle/n\n",
    "end\n",
    "\n",
    "@benchmark estimatepi(n)"
   ]
  },
  {
   "cell_type": "code",
   "execution_count": 119,
   "metadata": {},
   "outputs": [
    {
     "data": {
      "text/plain": [
       "BenchmarkTools.Trial: 18 samples with 1 evaluation.\n",
       " Range \u001b[90m(\u001b[39m\u001b[36m\u001b[1mmin\u001b[22m\u001b[39m … \u001b[35mmax\u001b[39m\u001b[90m):  \u001b[39m\u001b[36m\u001b[1m257.217 ms\u001b[22m\u001b[39m … \u001b[35m388.269 ms\u001b[39m  \u001b[90m┊\u001b[39m GC \u001b[90m(\u001b[39mmin … max\u001b[90m): \u001b[39m0.00% … 5.27%\n",
       " Time  \u001b[90m(\u001b[39m\u001b[34m\u001b[1mmedian\u001b[22m\u001b[39m\u001b[90m):     \u001b[39m\u001b[34m\u001b[1m284.059 ms               \u001b[22m\u001b[39m\u001b[90m┊\u001b[39m GC \u001b[90m(\u001b[39mmedian\u001b[90m):    \u001b[39m3.88%\n",
       " Time  \u001b[90m(\u001b[39m\u001b[32m\u001b[1mmean\u001b[22m\u001b[39m ± \u001b[32mσ\u001b[39m\u001b[90m):   \u001b[39m\u001b[32m\u001b[1m296.145 ms\u001b[22m\u001b[39m ± \u001b[32m 33.153 ms\u001b[39m  \u001b[90m┊\u001b[39m GC \u001b[90m(\u001b[39mmean ± σ\u001b[90m):  \u001b[39m3.02% ± 2.30%\n",
       "\n",
       "  \u001b[39m▁\u001b[39m \u001b[39m \u001b[39m \u001b[39m \u001b[39m▁\u001b[39m█\u001b[39m \u001b[39m█\u001b[39m█\u001b[39m \u001b[39m▁\u001b[34m \u001b[39m\u001b[39m▁\u001b[39m \u001b[39m \u001b[39m▁\u001b[39m \u001b[32m \u001b[39m\u001b[39m \u001b[39m \u001b[39m▁\u001b[39m \u001b[39m▁\u001b[39m▁\u001b[39m \u001b[39m█\u001b[39m \u001b[39m \u001b[39m \u001b[39m \u001b[39m \u001b[39m \u001b[39m \u001b[39m \u001b[39m \u001b[39m \u001b[39m \u001b[39m \u001b[39m \u001b[39m \u001b[39m \u001b[39m \u001b[39m \u001b[39m \u001b[39m \u001b[39m▁\u001b[39m \u001b[39m \u001b[39m \u001b[39m \u001b[39m \u001b[39m \u001b[39m \u001b[39m \u001b[39m \u001b[39m \u001b[39m \u001b[39m \u001b[39m \u001b[39m▁\u001b[39m \u001b[39m \n",
       "  \u001b[39m█\u001b[39m▁\u001b[39m▁\u001b[39m▁\u001b[39m▁\u001b[39m█\u001b[39m█\u001b[39m▁\u001b[39m█\u001b[39m█\u001b[39m▁\u001b[39m█\u001b[34m▁\u001b[39m\u001b[39m█\u001b[39m▁\u001b[39m▁\u001b[39m█\u001b[39m▁\u001b[32m▁\u001b[39m\u001b[39m▁\u001b[39m▁\u001b[39m█\u001b[39m▁\u001b[39m█\u001b[39m█\u001b[39m▁\u001b[39m█\u001b[39m▁\u001b[39m▁\u001b[39m▁\u001b[39m▁\u001b[39m▁\u001b[39m▁\u001b[39m▁\u001b[39m▁\u001b[39m▁\u001b[39m▁\u001b[39m▁\u001b[39m▁\u001b[39m▁\u001b[39m▁\u001b[39m▁\u001b[39m▁\u001b[39m▁\u001b[39m▁\u001b[39m▁\u001b[39m█\u001b[39m▁\u001b[39m▁\u001b[39m▁\u001b[39m▁\u001b[39m▁\u001b[39m▁\u001b[39m▁\u001b[39m▁\u001b[39m▁\u001b[39m▁\u001b[39m▁\u001b[39m▁\u001b[39m▁\u001b[39m█\u001b[39m \u001b[39m▁\n",
       "  257 ms\u001b[90m           Histogram: frequency by time\u001b[39m          388 ms \u001b[0m\u001b[1m<\u001b[22m\n",
       "\n",
       " Memory estimate\u001b[90m: \u001b[39m\u001b[33m119.79 MiB\u001b[39m, allocs estimate\u001b[90m: \u001b[39m\u001b[33m7850412\u001b[39m."
      ]
     },
     "execution_count": 119,
     "metadata": {},
     "output_type": "execute_result"
    }
   ],
   "source": [
    "function estimatepi_threads(n::Int64)\n",
    "    area_circle = 0 \n",
    "    @threads for i = 1:n\n",
    "        x = rand();\n",
    "        y = rand();\n",
    "        r = x^2 + y^2\n",
    "        if r < 1.0\n",
    "            @inbounds area_circle +=1\n",
    "        end\n",
    "    end\n",
    "    return 4* area_circle/n\n",
    "end    \n",
    "\n",
    "@benchmark estimatepi_threads(n)"
   ]
  },
  {
   "cell_type": "code",
   "execution_count": null,
   "metadata": {},
   "outputs": [],
   "source": [
    "nt = nthreads()\n",
    "estimates = zeros(nt)\n",
    "\n",
    "@threads for i=1:nt\n",
    "    estimates[i] = estimatepi_threads(n/nt)\n",
    "end\n",
    "\n",
    "estpi_t = Statistics.mean(estimates)"
   ]
  },
  {
   "cell_type": "markdown",
   "metadata": {},
   "source": [
    "# Distributed computing with Julia\n",
    "\n",
    "Julia gives the possibility to start multiple indipendent processes, either on single host, or across a network. So we can control, communicate, and execute programs across an entire cluster\n",
    "\n",
    "- Processes do not share any memory (heap or data), and can use multiple cores on the same machine or on different machines\n",
    "- No Synchronization issues but we need to explicitly manage communication between processes, since they do not share memory! Communication takes place via messages  \n",
    "- Processes are typically managed by the OS, whereas threads are managed by Julia's scheduler.\n",
    "- Suitable for massive computational jobs\n",
    "\n",
    "**The downside is that starting a process may be slow since each process requires much more memory than a multithread program.**\n",
    "\n",
    "## The Master-Worker Model\n",
    "\n",
    "There are several HPC models which distribute the amount of job to perform among different processors. Julia uses the so-called __master-work model__. In this model, we start with a single control process which is called master, controlling the worker processes. So the communication between Julia processes is __one-sided__ and the programmer needs to explicitly manage only one process in a two-processes operation."
   ]
  }
 ],
 "metadata": {
  "kernelspec": {
   "display_name": "Julia 1.10.1",
   "language": "julia",
   "name": "julia-1.10"
  },
  "language_info": {
   "file_extension": ".jl",
   "mimetype": "application/julia",
   "name": "julia",
   "version": "1.10.1"
  }
 },
 "nbformat": 4,
 "nbformat_minor": 2
}
